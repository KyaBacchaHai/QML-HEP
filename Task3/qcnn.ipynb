{
 "cells": [
  {
   "cell_type": "markdown",
   "metadata": {
    "colab_type": "text",
    "id": "xLOXFOT5Q40E"
   },
   "source": [
    "##### Copyright 2020 The TensorFlow Authors."
   ]
  },
  {
   "cell_type": "code",
   "execution_count": 1,
   "metadata": {
    "cellView": "form",
    "colab": {},
    "colab_type": "code",
    "execution": {
     "iopub.execute_input": "2020-10-07T11:11:26.784049Z",
     "iopub.status.busy": "2020-10-07T11:11:26.783469Z",
     "iopub.status.idle": "2020-10-07T11:11:26.785197Z",
     "shell.execute_reply": "2020-10-07T11:11:26.785558Z"
    },
    "id": "iiQkM5ZgQ8r2"
   },
   "outputs": [],
   "source": [
    "#@title Licensed under the Apache License, Version 2.0 (the \"License\");\n",
    "# you may not use this file except in compliance with the License.\n",
    "# You may obtain a copy of the License at\n",
    "#\n",
    "# https://www.apache.org/licenses/LICENSE-2.0\n",
    "#\n",
    "# Unless required by applicable law or agreed to in writing, software\n",
    "# distributed under the License is distributed on an \"AS IS\" BASIS,\n",
    "# WITHOUT WARRANTIES OR CONDITIONS OF ANY KIND, either express or implied.\n",
    "# See the License for the specific language governing permissions and\n",
    "# limitations under the License."
   ]
  },
  {
   "cell_type": "markdown",
   "metadata": {
    "colab_type": "text",
    "id": "uLeF5Nmdef0V"
   },
   "source": [
    "# Quantum Convolutional Neural Network"
   ]
  },
  {
   "cell_type": "markdown",
   "metadata": {
    "colab_type": "text",
    "id": "i9Jcnb8bQQyd"
   },
   "source": [
    "<table class=\"tfo-notebook-buttons\" align=\"left\">\n",
    "  <td>\n",
    "    <a target=\"_blank\" href=\"https://www.tensorflow.org/quantum/tutorials/qcnn\"><img src=\"https://www.tensorflow.org/images/tf_logo_32px.png\" />View on TensorFlow.org</a>\n",
    "  </td>\n",
    "  <td>\n",
    "    <a target=\"_blank\" href=\"https://colab.research.google.com/github/tensorflow/quantum/blob/master/docs/tutorials/qcnn.ipynb\"><img src=\"https://www.tensorflow.org/images/colab_logo_32px.png\" />Run in Google Colab</a>\n",
    "  </td>\n",
    "  <td>\n",
    "    <a target=\"_blank\" href=\"https://github.com/tensorflow/quantum/blob/master/docs/tutorials/qcnn.ipynb\"><img src=\"https://www.tensorflow.org/images/GitHub-Mark-32px.png\" />View source on GitHub</a>\n",
    "  </td>\n",
    "  <td>\n",
    "    <a href=\"https://storage.googleapis.com/tensorflow_docs/quantum/docs/tutorials/qcnn.ipynb\"><img src=\"https://www.tensorflow.org/images/download_logo_32px.png\" />Download notebook</a>\n",
    "  </td>\n",
    "</table>"
   ]
  },
  {
   "cell_type": "markdown",
   "metadata": {
    "colab_type": "text",
    "id": "4D3xaWBHOIVg"
   },
   "source": [
    "This tutorial implements a simplified <a href=\"https://www.nature.com/articles/s41567-019-0648-8\" class=\"external\">Quantum Convolutional Neural Network</a> (QCNN), a proposed quantum analogue to a classical convolutional neural network that is also *translationally invariant*.\n",
    "\n",
    "This example demonstrates how to detect certain properties of a quantum data source, such as a quantum sensor or a complex simulation from a device. The quantum data source being a <a href=\"https://arxiv.org/pdf/quant-ph/0504097.pdf\" class=\"external\">cluster state</a> that may or may not have an excitation—what the QCNN will learn to detect (The dataset used in the paper was SPT phase classification)."
   ]
  },
  {
   "cell_type": "markdown",
   "metadata": {
    "colab_type": "text",
    "id": "FnjolLuz8o5C"
   },
   "source": [
    "## Setup"
   ]
  },
  {
   "cell_type": "code",
   "execution_count": 2,
   "metadata": {
    "colab": {},
    "colab_type": "code",
    "execution": {
     "iopub.execute_input": "2020-10-07T11:11:26.789847Z",
     "iopub.status.busy": "2020-10-07T11:11:26.789128Z",
     "iopub.status.idle": "2020-10-07T11:11:28.018604Z",
     "shell.execute_reply": "2020-10-07T11:11:28.018076Z"
    },
    "id": "Aquwcz-0aHqz"
   },
   "outputs": [],
   "source": [
    "!pip install -q tensorflow==2.3.1"
   ]
  },
  {
   "cell_type": "markdown",
   "metadata": {
    "colab_type": "text",
    "id": "e_ZuLN_N8yhT"
   },
   "source": [
    "Install TensorFlow Quantum:"
   ]
  },
  {
   "cell_type": "code",
   "execution_count": 3,
   "metadata": {
    "colab": {},
    "colab_type": "code",
    "execution": {
     "iopub.execute_input": "2020-10-07T11:11:28.025631Z",
     "iopub.status.busy": "2020-10-07T11:11:28.025062Z",
     "iopub.status.idle": "2020-10-07T11:11:38.146733Z",
     "shell.execute_reply": "2020-10-07T11:11:38.147164Z"
    },
    "id": "3Pl5PW-ACO9J"
   },
   "outputs": [],
   "source": [
    "!pip install -q tensorflow-quantum"
   ]
  },
  {
   "cell_type": "markdown",
   "metadata": {
    "colab_type": "text",
    "id": "TL_LvHXzPNjW"
   },
   "source": [
    "Now import TensorFlow and the module dependencies:"
   ]
  },
  {
   "cell_type": "code",
   "execution_count": 4,
   "metadata": {
    "colab": {},
    "colab_type": "code",
    "execution": {
     "iopub.execute_input": "2020-10-07T11:11:38.152811Z",
     "iopub.status.busy": "2020-10-07T11:11:38.152246Z",
     "iopub.status.idle": "2020-10-07T11:11:44.758509Z",
     "shell.execute_reply": "2020-10-07T11:11:44.758907Z"
    },
    "id": "QytLEAtoejW5"
   },
   "outputs": [],
   "source": [
    "import tensorflow as tf\n",
    "import tensorflow_quantum as tfq\n",
    "\n",
    "import cirq\n",
    "import sympy\n",
    "import numpy as np\n",
    "\n",
    "# visualization tools\n",
    "%matplotlib inline\n",
    "import matplotlib.pyplot as plt\n",
    "from cirq.contrib.svg import SVGCircuit"
   ]
  },
  {
   "cell_type": "markdown",
   "metadata": {
    "colab_type": "text",
    "id": "j6331ZSsQGY3"
   },
   "source": [
    "## 1. Build a QCNN"
   ]
  },
  {
   "cell_type": "markdown",
   "metadata": {
    "colab_type": "text",
    "id": "Qg85u3G--CGq"
   },
   "source": [
    "### 1.1 Assemble circuits in a TensorFlow graph\n",
    "\n",
    "TensorFlow Quantum (TFQ) provides layer classes designed for in-graph circuit construction. One example is the `tfq.layers.AddCircuit` layer that inherits from `tf.keras.Layer`. This layer can either prepend or append to the input batch of circuits, as shown in the following figure.\n",
    "\n",
    "<img src=\"./images/qcnn_1.png\" width=\"700\">\n",
    "\n",
    "The following snippet uses this layer:"
   ]
  },
  {
   "cell_type": "code",
   "execution_count": 5,
   "metadata": {
    "colab": {},
    "colab_type": "code",
    "execution": {
     "iopub.execute_input": "2020-10-07T11:11:44.899231Z",
     "iopub.status.busy": "2020-10-07T11:11:44.898527Z",
     "iopub.status.idle": "2020-10-07T11:11:44.908497Z",
     "shell.execute_reply": "2020-10-07T11:11:44.908050Z"
    },
    "id": "FhNf0G_OPLqZ"
   },
   "outputs": [],
   "source": [
    "qubit = cirq.GridQubit(0, 0)\n",
    "\n",
    "# Define some circuits.\n",
    "circuit1 = cirq.Circuit(cirq.X(qubit))\n",
    "circuit2 = cirq.Circuit(cirq.H(qubit))\n",
    "\n",
    "# Convert to a tensor.\n",
    "input_circuit_tensor = tfq.convert_to_tensor([circuit1, circuit2])\n",
    "\n",
    "# Define a circuit that we want to append\n",
    "y_circuit = cirq.Circuit(cirq.Y(qubit))\n",
    "\n",
    "# Instantiate our layer\n",
    "y_appender = tfq.layers.AddCircuit()\n",
    "\n",
    "# Run our circuit tensor through the layer and save the output.\n",
    "output_circuit_tensor = y_appender(input_circuit_tensor, append=y_circuit)"
   ]
  },
  {
   "cell_type": "markdown",
   "metadata": {
    "colab_type": "text",
    "id": "ShZbRZCXkvk5"
   },
   "source": [
    "Examine the input tensor:"
   ]
  },
  {
   "cell_type": "code",
   "execution_count": 6,
   "metadata": {
    "colab": {},
    "colab_type": "code",
    "execution": {
     "iopub.execute_input": "2020-10-07T11:11:44.913724Z",
     "iopub.status.busy": "2020-10-07T11:11:44.913169Z",
     "iopub.status.idle": "2020-10-07T11:11:44.916625Z",
     "shell.execute_reply": "2020-10-07T11:11:44.916988Z"
    },
    "id": "ImRynsUN4BSG"
   },
   "outputs": [
    {
     "name": "stdout",
     "output_type": "stream",
     "text": [
      "[cirq.Circuit([\n",
      "    cirq.Moment(\n",
      "        cirq.X(cirq.GridQubit(0, 0)),\n",
      "    ),\n",
      "])\n",
      " cirq.Circuit([\n",
      "    cirq.Moment(\n",
      "        cirq.H(cirq.GridQubit(0, 0)),\n",
      "    ),\n",
      "])]\n"
     ]
    }
   ],
   "source": [
    "print(tfq.from_tensor(input_circuit_tensor))"
   ]
  },
  {
   "cell_type": "markdown",
   "metadata": {
    "colab_type": "text",
    "id": "xkGU4ZTUk4gf"
   },
   "source": [
    "And examine the output tensor:"
   ]
  },
  {
   "cell_type": "code",
   "execution_count": 7,
   "metadata": {
    "colab": {},
    "colab_type": "code",
    "execution": {
     "iopub.execute_input": "2020-10-07T11:11:44.921716Z",
     "iopub.status.busy": "2020-10-07T11:11:44.921156Z",
     "iopub.status.idle": "2020-10-07T11:11:44.923027Z",
     "shell.execute_reply": "2020-10-07T11:11:44.923418Z"
    },
    "id": "tfff6dJp39Fg"
   },
   "outputs": [
    {
     "name": "stdout",
     "output_type": "stream",
     "text": [
      "[cirq.Circuit([\n",
      "    cirq.Moment(\n",
      "        cirq.X(cirq.GridQubit(0, 0)),\n",
      "    ),\n",
      "    cirq.Moment(\n",
      "        cirq.Y(cirq.GridQubit(0, 0)),\n",
      "    ),\n",
      "])\n",
      " cirq.Circuit([\n",
      "    cirq.Moment(\n",
      "        cirq.H(cirq.GridQubit(0, 0)),\n",
      "    ),\n",
      "    cirq.Moment(\n",
      "        cirq.Y(cirq.GridQubit(0, 0)),\n",
      "    ),\n",
      "])]\n"
     ]
    }
   ],
   "source": [
    "print(tfq.from_tensor(output_circuit_tensor))"
   ]
  },
  {
   "cell_type": "markdown",
   "metadata": {
    "colab_type": "text",
    "id": "23JeZ7Ns5qy5"
   },
   "source": [
    "While it is possible to run the examples below without using `tfq.layers.AddCircuit`, it's a good opportunity to understand how complex functionality can be embedded into TensorFlow compute graphs."
   ]
  },
  {
   "cell_type": "markdown",
   "metadata": {
    "colab_type": "text",
    "id": "GcVplt9455Hi"
   },
   "source": [
    "### 1.2 Problem overview\n",
    "\n",
    "You will prepare a *cluster state* and train a quantum classifier to detect if it is \"excited\" or not. The cluster state is highly entangled but not necessarily difficult for a classical computer. For clarity, this is a simpler dataset than the one used in the paper.\n",
    "\n",
    "For this classification task you will implement a deep <a href=\"https://arxiv.org/pdf/quant-ph/0610099.pdf\" class=\"external\">MERA</a>-like QCNN architecture since:\n",
    "\n",
    "1.   Like the QCNN, the cluster state on a ring is translationally invariant.\n",
    "2.   The cluster state is highly entangled.\n",
    "\n",
    "This architecture should be effective at reducing entanglement, obtaining the classification by reading out a single qubit.\n",
    "\n",
    "<img src=\"./images/qcnn_2.png\" width=\"1000\">\n",
    "\n",
    "An \"excited\" cluster state is defined as a cluster state that had a `cirq.rx` gate applied to any of its qubits. Qconv and QPool are discussed later in this tutorial."
   ]
  },
  {
   "cell_type": "markdown",
   "metadata": {
    "colab_type": "text",
    "id": "jpqtsGJH_I1d"
   },
   "source": [
    "### 1.3 Building blocks for TensorFlow\n",
    "\n",
    "<img src=\"./images/qcnn_3.png\" width=\"1000\">\n",
    "\n",
    "One way to solve this problem with TensorFlow Quantum is to implement the following:\n",
    "\n",
    "1. The input to the model is a circuit tensor—either an empty circuit or an X gate on a particular qubit indicating an excitation.\n",
    "2. The rest of the model's quantum components are constructed with `tfq.layers.AddCircuit` layers.\n",
    "3. For inference a `tfq.layers.PQC` layer is used. This reads $\\langle \\hat{Z} \\rangle$ and compares it to a label of 1 for an excited state, or -1 for a non-excited state."
   ]
  },
  {
   "cell_type": "markdown",
   "metadata": {
    "colab_type": "text",
    "id": "oa7Q3m_ThDgO"
   },
   "source": [
    "### 1.4 Data\n",
    "Before building your model, you can generate your data. In this case it's going to be excitations to the cluster state (The original paper uses a more complicated dataset). Excitations are represented with `cirq.rx` gates. A large enough rotation is deemed an excitation and is labeled `1` and a rotation that isn't large enough is labeled `-1` and deemed not an excitation."
   ]
  },
  {
   "cell_type": "code",
   "execution_count": 8,
   "metadata": {
    "colab": {},
    "colab_type": "code",
    "execution": {
     "iopub.execute_input": "2020-10-07T11:11:44.930558Z",
     "iopub.status.busy": "2020-10-07T11:11:44.929983Z",
     "iopub.status.idle": "2020-10-07T11:11:44.931641Z",
     "shell.execute_reply": "2020-10-07T11:11:44.931985Z"
    },
    "id": "iUrvTCU1hDgP"
   },
   "outputs": [],
   "source": [
    "def generate_data(qubits):\n",
    "    \"\"\"Generate training and testing data.\"\"\"\n",
    "    n_rounds = 20  # Produces n_rounds * n_qubits datapoints.\n",
    "    excitations = []\n",
    "    labels = []\n",
    "    for n in range(n_rounds):\n",
    "        for bit in qubits:\n",
    "            rng = np.random.uniform(-np.pi, np.pi)\n",
    "            excitations.append(cirq.Circuit(cirq.rx(rng)(bit)))\n",
    "            labels.append(1 if (-np.pi / 2) <= rng <= (np.pi / 2) else -1)\n",
    "\n",
    "    split_ind = int(len(excitations) * 0.7)\n",
    "    train_excitations = excitations[:split_ind]\n",
    "    test_excitations = excitations[split_ind:]\n",
    "\n",
    "    train_labels = labels[:split_ind]\n",
    "    test_labels = labels[split_ind:]\n",
    "\n",
    "    return tfq.convert_to_tensor(train_excitations), np.array(train_labels), \\\n",
    "        tfq.convert_to_tensor(test_excitations), np.array(test_labels)"
   ]
  },
  {
   "cell_type": "markdown",
   "metadata": {
    "colab_type": "text",
    "id": "wGsDkZnrhDgS"
   },
   "source": [
    "You can see that just like with regular machine learning you create a training and testing set to use to benchmark the model. You can quickly look at some datapoints with:"
   ]
  },
  {
   "cell_type": "code",
   "execution_count": 9,
   "metadata": {
    "colab": {},
    "colab_type": "code",
    "execution": {
     "iopub.execute_input": "2020-10-07T11:11:44.975923Z",
     "iopub.status.busy": "2020-10-07T11:11:44.975310Z",
     "iopub.status.idle": "2020-10-07T11:11:44.977969Z",
     "shell.execute_reply": "2020-10-07T11:11:44.977481Z"
    },
    "id": "eLJ-JHOihDgT"
   },
   "outputs": [
    {
     "name": "stdout",
     "output_type": "stream",
     "text": [
      "Input: (0, 0): ───Rx(-0.697π)─── Output: -1\n",
      "Input: (0, 1): ───Rx(0.159π)─── Output: 1\n"
     ]
    }
   ],
   "source": [
    "sample_points, sample_labels, _, __ = generate_data(cirq.GridQubit.rect(1, 4))\n",
    "print('Input:', tfq.from_tensor(sample_points)[0], 'Output:', sample_labels[0])\n",
    "print('Input:', tfq.from_tensor(sample_points)[1], 'Output:', sample_labels[1])"
   ]
  },
  {
   "cell_type": "markdown",
   "metadata": {
    "colab_type": "text",
    "id": "sFiRlDt_0-DL"
   },
   "source": [
    "### 1.5 Define layers\n",
    "\n",
    "Now define the layers shown in the figure above in TensorFlow."
   ]
  },
  {
   "cell_type": "markdown",
   "metadata": {
    "colab_type": "text",
    "id": "s2B9geIqLWHK"
   },
   "source": [
    "#### 1.5.1 Cluster state\n",
    "\n",
    "The first step is to define the <a href=\"https://arxiv.org/pdf/quant-ph/0504097.pdf\" class=\"external\">cluster state</a> using <a href=\"https://github.com/quantumlib/Cirq\" class=\"external\">Cirq</a>, a Google-provided framework for programming quantum circuits. Since this is a static part of the model, embed it using the `tfq.layers.AddCircuit` functionality."
   ]
  },
  {
   "cell_type": "code",
   "execution_count": 10,
   "metadata": {
    "colab": {},
    "colab_type": "code",
    "execution": {
     "iopub.execute_input": "2020-10-07T11:11:44.982702Z",
     "iopub.status.busy": "2020-10-07T11:11:44.982138Z",
     "iopub.status.idle": "2020-10-07T11:11:44.983806Z",
     "shell.execute_reply": "2020-10-07T11:11:44.984149Z"
    },
    "id": "qpQwVWKazU8g"
   },
   "outputs": [],
   "source": [
    "def cluster_state_circuit(bits):\n",
    "    \"\"\"Return a cluster state on the qubits in `bits`.\"\"\"\n",
    "    circuit = cirq.Circuit()\n",
    "    circuit.append(cirq.H.on_each(bits))\n",
    "    for this_bit, next_bit in zip(bits, bits[1:] + [bits[0]]):\n",
    "        circuit.append(cirq.CZ(this_bit, next_bit))\n",
    "    return circuit"
   ]
  },
  {
   "cell_type": "markdown",
   "metadata": {
    "colab_type": "text",
    "id": "e9qX1uN740vJ"
   },
   "source": [
    "Display a cluster state circuit for a rectangle of <a href=\"https://cirq.readthedocs.io/en/stable/generated/cirq.GridQubit.html\" class=\"external\"><code>cirq.GridQubit</code></a>s:"
   ]
  },
  {
   "cell_type": "code",
   "execution_count": 11,
   "metadata": {
    "colab": {},
    "colab_type": "code",
    "execution": {
     "iopub.execute_input": "2020-10-07T11:11:44.991694Z",
     "iopub.status.busy": "2020-10-07T11:11:44.991015Z",
     "iopub.status.idle": "2020-10-07T11:11:45.171977Z",
     "shell.execute_reply": "2020-10-07T11:11:45.172351Z"
    },
    "id": "9tZt0aAO4r4F"
   },
   "outputs": [
    {
     "name": "stderr",
     "output_type": "stream",
     "text": [
      "findfont: Font family ['Arial'] not found. Falling back to DejaVu Sans.\n"
     ]
    },
    {
     "data": {
      "image/svg+xml": [
       "<svg xmlns=\"http://www.w3.org/2000/svg\" width=\"409.51773437500003\" height=\"200.0\"><line x1=\"34.7588671875\" x2=\"379.51773437500003\" y1=\"25.0\" y2=\"25.0\" stroke=\"#1967d2\" stroke-width=\"1\" /><line x1=\"34.7588671875\" x2=\"379.51773437500003\" y1=\"75.0\" y2=\"75.0\" stroke=\"#1967d2\" stroke-width=\"1\" /><line x1=\"34.7588671875\" x2=\"379.51773437500003\" y1=\"125.0\" y2=\"125.0\" stroke=\"#1967d2\" stroke-width=\"1\" /><line x1=\"34.7588671875\" x2=\"379.51773437500003\" y1=\"175.0\" y2=\"175.0\" stroke=\"#1967d2\" stroke-width=\"1\" /><line x1=\"159.517734375\" x2=\"159.517734375\" y1=\"25.0\" y2=\"75.0\" stroke=\"black\" stroke-width=\"3\" /><line x1=\"219.517734375\" x2=\"219.517734375\" y1=\"75.0\" y2=\"125.0\" stroke=\"black\" stroke-width=\"3\" /><line x1=\"279.51773437500003\" x2=\"279.51773437500003\" y1=\"125.0\" y2=\"175.0\" stroke=\"black\" stroke-width=\"3\" /><line x1=\"339.51773437500003\" x2=\"339.51773437500003\" y1=\"25.0\" y2=\"175.0\" stroke=\"black\" stroke-width=\"3\" /><rect x=\"10.0\" y=\"5.0\" width=\"49.517734375\" height=\"40\" stroke=\"black\" fill=\"white\" stroke-width=\"0\" /><text x=\"34.7588671875\" y=\"25.0\" dominant-baseline=\"middle\" text-anchor=\"middle\" font-size=\"14px\" font-family=\"Arial\">(0, 0): </text><rect x=\"10.0\" y=\"55.0\" width=\"49.517734375\" height=\"40\" stroke=\"black\" fill=\"white\" stroke-width=\"0\" /><text x=\"34.7588671875\" y=\"75.0\" dominant-baseline=\"middle\" text-anchor=\"middle\" font-size=\"14px\" font-family=\"Arial\">(0, 1): </text><rect x=\"10.0\" y=\"105.0\" width=\"49.517734375\" height=\"40\" stroke=\"black\" fill=\"white\" stroke-width=\"0\" /><text x=\"34.7588671875\" y=\"125.0\" dominant-baseline=\"middle\" text-anchor=\"middle\" font-size=\"14px\" font-family=\"Arial\">(0, 2): </text><rect x=\"10.0\" y=\"155.0\" width=\"49.517734375\" height=\"40\" stroke=\"black\" fill=\"white\" stroke-width=\"0\" /><text x=\"34.7588671875\" y=\"175.0\" dominant-baseline=\"middle\" text-anchor=\"middle\" font-size=\"14px\" font-family=\"Arial\">(0, 3): </text><rect x=\"79.517734375\" y=\"5.0\" width=\"40\" height=\"40\" stroke=\"black\" fill=\"white\" stroke-width=\"1\" /><text x=\"99.517734375\" y=\"25.0\" dominant-baseline=\"middle\" text-anchor=\"middle\" font-size=\"18px\" font-family=\"Arial\">H</text><rect x=\"79.517734375\" y=\"55.0\" width=\"40\" height=\"40\" stroke=\"black\" fill=\"white\" stroke-width=\"1\" /><text x=\"99.517734375\" y=\"75.0\" dominant-baseline=\"middle\" text-anchor=\"middle\" font-size=\"18px\" font-family=\"Arial\">H</text><rect x=\"79.517734375\" y=\"105.0\" width=\"40\" height=\"40\" stroke=\"black\" fill=\"white\" stroke-width=\"1\" /><text x=\"99.517734375\" y=\"125.0\" dominant-baseline=\"middle\" text-anchor=\"middle\" font-size=\"18px\" font-family=\"Arial\">H</text><rect x=\"79.517734375\" y=\"155.0\" width=\"40\" height=\"40\" stroke=\"black\" fill=\"white\" stroke-width=\"1\" /><text x=\"99.517734375\" y=\"175.0\" dominant-baseline=\"middle\" text-anchor=\"middle\" font-size=\"18px\" font-family=\"Arial\">H</text><circle cx=\"159.517734375\" cy=\"25.0\" r=\"10.0\" /><circle cx=\"159.517734375\" cy=\"75.0\" r=\"10.0\" /><circle cx=\"219.517734375\" cy=\"75.0\" r=\"10.0\" /><circle cx=\"219.517734375\" cy=\"125.0\" r=\"10.0\" /><circle cx=\"279.51773437500003\" cy=\"125.0\" r=\"10.0\" /><circle cx=\"279.51773437500003\" cy=\"175.0\" r=\"10.0\" /><circle cx=\"339.51773437500003\" cy=\"175.0\" r=\"10.0\" /><circle cx=\"339.51773437500003\" cy=\"25.0\" r=\"10.0\" /></svg>"
      ],
      "text/plain": [
       "<cirq.contrib.svg.svg.SVGCircuit at 0x7feed89052b0>"
      ]
     },
     "execution_count": 11,
     "metadata": {},
     "output_type": "execute_result"
    }
   ],
   "source": [
    "SVGCircuit(cluster_state_circuit(cirq.GridQubit.rect(1, 4)))"
   ]
  },
  {
   "cell_type": "markdown",
   "metadata": {
    "colab_type": "text",
    "id": "4xElWnRf1ZC7"
   },
   "source": [
    "#### 1.5.2 QCNN layers\n",
    "\n",
    "Define the layers that make up the model using the <a href=\"https://arxiv.org/abs/1810.03787\" class=\"external\">Cong and Lukin QCNN paper</a>. There are a few prerequisites:\n",
    "\n",
    "* The one- and two-qubit parameterized unitary matrices from the <a href=\"https://arxiv.org/abs/quant-ph/0507171\" class=\"external\">Tucci paper</a>.\n",
    "* A general parameterized two-qubit pooling operation."
   ]
  },
  {
   "cell_type": "code",
   "execution_count": 12,
   "metadata": {
    "colab": {},
    "colab_type": "code",
    "execution": {
     "iopub.execute_input": "2020-10-07T11:11:45.180867Z",
     "iopub.status.busy": "2020-10-07T11:11:45.180307Z",
     "iopub.status.idle": "2020-10-07T11:11:45.182024Z",
     "shell.execute_reply": "2020-10-07T11:11:45.182387Z"
    },
    "id": "oNRGOqky2exY"
   },
   "outputs": [],
   "source": [
    "def one_qubit_unitary(bit, symbols):\n",
    "    \"\"\"Make a Cirq circuit enacting a rotation of the bloch sphere about the X,\n",
    "    Y and Z axis, that depends on the values in `symbols`.\n",
    "    \"\"\"\n",
    "    return cirq.Circuit(\n",
    "        cirq.X(bit)**symbols[0],\n",
    "        cirq.Y(bit)**symbols[1],\n",
    "        cirq.Z(bit)**symbols[2])\n",
    "\n",
    "\n",
    "def two_qubit_unitary(bits, symbols):\n",
    "    \"\"\"Make a Cirq circuit that creates an arbitrary two qubit unitary.\"\"\"\n",
    "    circuit = cirq.Circuit()\n",
    "    circuit += one_qubit_unitary(bits[0], symbols[0:3])\n",
    "    circuit += one_qubit_unitary(bits[1], symbols[3:6])\n",
    "    circuit += [cirq.ZZ(*bits)**symbols[6]]\n",
    "    circuit += [cirq.YY(*bits)**symbols[7]]\n",
    "    circuit += [cirq.XX(*bits)**symbols[8]]\n",
    "    circuit += one_qubit_unitary(bits[0], symbols[9:12])\n",
    "    circuit += one_qubit_unitary(bits[1], symbols[12:])\n",
    "    return circuit\n",
    "\n",
    "\n",
    "def two_qubit_pool(source_qubit, sink_qubit, symbols):\n",
    "    \"\"\"Make a Cirq circuit to do a parameterized 'pooling' operation, which\n",
    "    attempts to reduce entanglement down from two qubits to just one.\"\"\"\n",
    "    pool_circuit = cirq.Circuit()\n",
    "    sink_basis_selector = one_qubit_unitary(sink_qubit, symbols[0:3])\n",
    "    source_basis_selector = one_qubit_unitary(source_qubit, symbols[3:6])\n",
    "    pool_circuit.append(sink_basis_selector)\n",
    "    pool_circuit.append(source_basis_selector)\n",
    "    pool_circuit.append(cirq.CNOT(control=source_qubit, target=sink_qubit))\n",
    "    pool_circuit.append(sink_basis_selector**-1)\n",
    "    return pool_circuit"
   ]
  },
  {
   "cell_type": "markdown",
   "metadata": {
    "colab_type": "text",
    "id": "LoG0a3U_2qGA"
   },
   "source": [
    "To see what you created, print out the one-qubit unitary circuit:"
   ]
  },
  {
   "cell_type": "code",
   "execution_count": 13,
   "metadata": {
    "colab": {},
    "colab_type": "code",
    "execution": {
     "iopub.execute_input": "2020-10-07T11:11:45.187349Z",
     "iopub.status.busy": "2020-10-07T11:11:45.186761Z",
     "iopub.status.idle": "2020-10-07T11:11:45.222379Z",
     "shell.execute_reply": "2020-10-07T11:11:45.222721Z"
    },
    "id": "T5uhvF-g2rpZ"
   },
   "outputs": [
    {
     "data": {
      "image/svg+xml": [
       "<svg xmlns=\"http://www.w3.org/2000/svg\" width=\"309.3764453125\" height=\"50.0\"><line x1=\"34.7588671875\" x2=\"279.3764453125\" y1=\"25.0\" y2=\"25.0\" stroke=\"#1967d2\" stroke-width=\"1\" /><rect x=\"10.0\" y=\"5.0\" width=\"49.517734375\" height=\"40\" stroke=\"black\" fill=\"white\" stroke-width=\"0\" /><text x=\"34.7588671875\" y=\"25.0\" dominant-baseline=\"middle\" text-anchor=\"middle\" font-size=\"14px\" font-family=\"Arial\">(0, 0): </text><rect x=\"79.517734375\" y=\"5.0\" width=\"47.1664453125\" height=\"40\" stroke=\"black\" fill=\"white\" stroke-width=\"1\" /><text x=\"103.10095703125\" y=\"25.0\" dominant-baseline=\"middle\" text-anchor=\"middle\" font-size=\"14px\" font-family=\"Arial\">X^x0</text><rect x=\"146.6841796875\" y=\"5.0\" width=\"46.2105078125\" height=\"40\" stroke=\"black\" fill=\"white\" stroke-width=\"1\" /><text x=\"169.78943359375\" y=\"25.0\" dominant-baseline=\"middle\" text-anchor=\"middle\" font-size=\"14px\" font-family=\"Arial\">Y^x1</text><rect x=\"212.8946875\" y=\"5.0\" width=\"46.48175781250001\" height=\"40\" stroke=\"black\" fill=\"white\" stroke-width=\"1\" /><text x=\"236.13556640625\" y=\"25.0\" dominant-baseline=\"middle\" text-anchor=\"middle\" font-size=\"14px\" font-family=\"Arial\">Z^x2</text></svg>"
      ],
      "text/plain": [
       "<cirq.contrib.svg.svg.SVGCircuit at 0x7feec80da748>"
      ]
     },
     "execution_count": 13,
     "metadata": {},
     "output_type": "execute_result"
    }
   ],
   "source": [
    "SVGCircuit(one_qubit_unitary(cirq.GridQubit(0, 0), sympy.symbols('x0:3')))"
   ]
  },
  {
   "cell_type": "markdown",
   "metadata": {
    "colab_type": "text",
    "id": "NWuMb_Us8ar2"
   },
   "source": [
    "And the two-qubit unitary circuit:"
   ]
  },
  {
   "cell_type": "code",
   "execution_count": 14,
   "metadata": {
    "colab": {},
    "colab_type": "code",
    "execution": {
     "iopub.execute_input": "2020-10-07T11:11:45.230180Z",
     "iopub.status.busy": "2020-10-07T11:11:45.229622Z",
     "iopub.status.idle": "2020-10-07T11:11:45.338872Z",
     "shell.execute_reply": "2020-10-07T11:11:45.339254Z"
    },
    "id": "aJTdRrfS2uIo"
   },
   "outputs": [
    {
     "data": {
      "image/svg+xml": [
       "<svg xmlns=\"http://www.w3.org/2000/svg\" width=\"1182.8964453124997\" height=\"100.0\"><line x1=\"34.7588671875\" x2=\"1152.8964453124997\" y1=\"25.0\" y2=\"25.0\" stroke=\"#1967d2\" stroke-width=\"1\" /><line x1=\"34.7588671875\" x2=\"1152.8964453124997\" y1=\"75.0\" y2=\"75.0\" stroke=\"#1967d2\" stroke-width=\"1\" /><line x1=\"508.0261328125\" x2=\"508.0261328125\" y1=\"25.0\" y2=\"75.0\" stroke=\"black\" stroke-width=\"3\" /><line x1=\"583.7519921875\" x2=\"583.7519921875\" y1=\"25.0\" y2=\"75.0\" stroke=\"black\" stroke-width=\"3\" /><line x1=\"659.5456640625\" x2=\"659.5456640625\" y1=\"25.0\" y2=\"75.0\" stroke=\"black\" stroke-width=\"3\" /><rect x=\"10.0\" y=\"5.0\" width=\"49.517734375\" height=\"40\" stroke=\"black\" fill=\"white\" stroke-width=\"0\" /><text x=\"34.7588671875\" y=\"25.0\" dominant-baseline=\"middle\" text-anchor=\"middle\" font-size=\"14px\" font-family=\"Arial\">(0, 0): </text><rect x=\"10.0\" y=\"55.0\" width=\"49.517734375\" height=\"40\" stroke=\"black\" fill=\"white\" stroke-width=\"0\" /><text x=\"34.7588671875\" y=\"75.0\" dominant-baseline=\"middle\" text-anchor=\"middle\" font-size=\"14px\" font-family=\"Arial\">(0, 1): </text><rect x=\"79.517734375\" y=\"5.0\" width=\"47.1664453125\" height=\"40\" stroke=\"black\" fill=\"white\" stroke-width=\"1\" /><text x=\"103.10095703125\" y=\"25.0\" dominant-baseline=\"middle\" text-anchor=\"middle\" font-size=\"14px\" font-family=\"Arial\">X^x0</text><rect x=\"146.6841796875\" y=\"5.0\" width=\"46.2105078125\" height=\"40\" stroke=\"black\" fill=\"white\" stroke-width=\"1\" /><text x=\"169.78943359375\" y=\"25.0\" dominant-baseline=\"middle\" text-anchor=\"middle\" font-size=\"14px\" font-family=\"Arial\">Y^x1</text><rect x=\"212.8946875\" y=\"5.0\" width=\"46.48175781250001\" height=\"40\" stroke=\"black\" fill=\"white\" stroke-width=\"1\" /><text x=\"236.13556640625\" y=\"25.0\" dominant-baseline=\"middle\" text-anchor=\"middle\" font-size=\"14px\" font-family=\"Arial\">Z^x2</text><rect x=\"279.3764453125\" y=\"55.0\" width=\"46.97394531250001\" height=\"40\" stroke=\"black\" fill=\"white\" stroke-width=\"1\" /><text x=\"302.86341796875\" y=\"75.0\" dominant-baseline=\"middle\" text-anchor=\"middle\" font-size=\"14px\" font-family=\"Arial\">X^x3</text><rect x=\"346.350390625\" y=\"55.0\" width=\"46.718007812500005\" height=\"40\" stroke=\"black\" fill=\"white\" stroke-width=\"1\" /><text x=\"369.70939453125\" y=\"75.0\" dominant-baseline=\"middle\" text-anchor=\"middle\" font-size=\"14px\" font-family=\"Arial\">Y^x4</text><rect x=\"413.0683984375\" y=\"55.0\" width=\"46.6611328125\" height=\"40\" stroke=\"black\" fill=\"white\" stroke-width=\"1\" /><text x=\"436.39896484375\" y=\"75.0\" dominant-baseline=\"middle\" text-anchor=\"middle\" font-size=\"14px\" font-family=\"Arial\">Z^x5</text><rect x=\"479.72953125000004\" y=\"5.0\" width=\"56.593203125\" height=\"40\" stroke=\"black\" fill=\"white\" stroke-width=\"1\" /><text x=\"508.0261328125\" y=\"25.0\" dominant-baseline=\"middle\" text-anchor=\"middle\" font-size=\"14px\" font-family=\"Arial\">ZZ</text><rect x=\"479.72953125000004\" y=\"55.0\" width=\"56.593203125\" height=\"40\" stroke=\"black\" fill=\"white\" stroke-width=\"1\" /><text x=\"508.0261328125\" y=\"75.0\" dominant-baseline=\"middle\" text-anchor=\"middle\" font-size=\"14px\" font-family=\"Arial\">ZZ^x6</text><rect x=\"556.322734375\" y=\"5.0\" width=\"54.85851562500001\" height=\"40\" stroke=\"black\" fill=\"white\" stroke-width=\"1\" /><text x=\"583.7519921875\" y=\"25.0\" dominant-baseline=\"middle\" text-anchor=\"middle\" font-size=\"14px\" font-family=\"Arial\">YY</text><rect x=\"556.322734375\" y=\"55.0\" width=\"54.85851562500001\" height=\"40\" stroke=\"black\" fill=\"white\" stroke-width=\"1\" /><text x=\"583.7519921875\" y=\"75.0\" dominant-baseline=\"middle\" text-anchor=\"middle\" font-size=\"14px\" font-family=\"Arial\">YY^x7</text><rect x=\"631.18125\" y=\"5.0\" width=\"56.72882812500001\" height=\"40\" stroke=\"black\" fill=\"white\" stroke-width=\"1\" /><text x=\"659.5456640625\" y=\"25.0\" dominant-baseline=\"middle\" text-anchor=\"middle\" font-size=\"14px\" font-family=\"Arial\">XX</text><rect x=\"631.18125\" y=\"55.0\" width=\"56.72882812500001\" height=\"40\" stroke=\"black\" fill=\"white\" stroke-width=\"1\" /><text x=\"659.5456640625\" y=\"75.0\" dominant-baseline=\"middle\" text-anchor=\"middle\" font-size=\"14px\" font-family=\"Arial\">XX^x8</text><rect x=\"707.9100781249999\" y=\"5.0\" width=\"47.1117578125\" height=\"40\" stroke=\"black\" fill=\"white\" stroke-width=\"1\" /><text x=\"731.4659570312499\" y=\"25.0\" dominant-baseline=\"middle\" text-anchor=\"middle\" font-size=\"14px\" font-family=\"Arial\">X^x9</text><rect x=\"775.0218359374999\" y=\"5.0\" width=\"55.48085937500001\" height=\"40\" stroke=\"black\" fill=\"white\" stroke-width=\"1\" /><text x=\"802.7622656249998\" y=\"25.0\" dominant-baseline=\"middle\" text-anchor=\"middle\" font-size=\"14px\" font-family=\"Arial\">Y^x10</text><rect x=\"850.5026953124999\" y=\"5.0\" width=\"55.49835937500001\" height=\"40\" stroke=\"black\" fill=\"white\" stroke-width=\"1\" /><text x=\"878.2518749999999\" y=\"25.0\" dominant-baseline=\"middle\" text-anchor=\"middle\" font-size=\"14px\" font-family=\"Arial\">Z^x11</text><rect x=\"926.0010546874998\" y=\"55.0\" width=\"55.601171875000006\" height=\"40\" stroke=\"black\" fill=\"white\" stroke-width=\"1\" /><text x=\"953.8016406249999\" y=\"75.0\" dominant-baseline=\"middle\" text-anchor=\"middle\" font-size=\"14px\" font-family=\"Arial\">X^x12</text><rect x=\"1001.6022265624998\" y=\"55.0\" width=\"55.288359375\" height=\"40\" stroke=\"black\" fill=\"white\" stroke-width=\"1\" /><text x=\"1029.2464062499998\" y=\"75.0\" dominant-baseline=\"middle\" text-anchor=\"middle\" font-size=\"14px\" font-family=\"Arial\">Y^x13</text><rect x=\"1076.8905859374997\" y=\"55.0\" width=\"56.005859375\" height=\"40\" stroke=\"black\" fill=\"white\" stroke-width=\"1\" /><text x=\"1104.8935156249997\" y=\"75.0\" dominant-baseline=\"middle\" text-anchor=\"middle\" font-size=\"14px\" font-family=\"Arial\">Z^x14</text></svg>"
      ],
      "text/plain": [
       "<cirq.contrib.svg.svg.SVGCircuit at 0x7feec80ceba8>"
      ]
     },
     "execution_count": 14,
     "metadata": {},
     "output_type": "execute_result"
    }
   ],
   "source": [
    "SVGCircuit(two_qubit_unitary(cirq.GridQubit.rect(1, 2), sympy.symbols('x0:15')))"
   ]
  },
  {
   "cell_type": "markdown",
   "metadata": {
    "colab_type": "text",
    "id": "EXQD1R_V8jyk"
   },
   "source": [
    "And the two-qubit pooling circuit:"
   ]
  },
  {
   "cell_type": "code",
   "execution_count": 15,
   "metadata": {
    "colab": {},
    "colab_type": "code",
    "execution": {
     "iopub.execute_input": "2020-10-07T11:11:45.345690Z",
     "iopub.status.busy": "2020-10-07T11:11:45.345115Z",
     "iopub.status.idle": "2020-10-07T11:11:45.439377Z",
     "shell.execute_reply": "2020-10-07T11:11:45.439734Z"
    },
    "id": "DOHRbkvH2xGK"
   },
   "outputs": [
    {
     "data": {
      "image/svg+xml": [
       "<svg xmlns=\"http://www.w3.org/2000/svg\" width=\"817.5303125\" height=\"100.0\"><line x1=\"34.7588671875\" x2=\"787.5303125\" y1=\"25.0\" y2=\"25.0\" stroke=\"#1967d2\" stroke-width=\"1\" /><line x1=\"34.7588671875\" x2=\"787.5303125\" y1=\"75.0\" y2=\"75.0\" stroke=\"#1967d2\" stroke-width=\"1\" /><line x1=\"499.72953125\" x2=\"499.72953125\" y1=\"25.0\" y2=\"75.0\" stroke=\"black\" stroke-width=\"3\" /><rect x=\"10.0\" y=\"5.0\" width=\"49.517734375\" height=\"40\" stroke=\"black\" fill=\"white\" stroke-width=\"0\" /><text x=\"34.7588671875\" y=\"25.0\" dominant-baseline=\"middle\" text-anchor=\"middle\" font-size=\"14px\" font-family=\"Arial\">(0, 0): </text><rect x=\"10.0\" y=\"55.0\" width=\"49.517734375\" height=\"40\" stroke=\"black\" fill=\"white\" stroke-width=\"0\" /><text x=\"34.7588671875\" y=\"75.0\" dominant-baseline=\"middle\" text-anchor=\"middle\" font-size=\"14px\" font-family=\"Arial\">(0, 1): </text><rect x=\"79.517734375\" y=\"55.0\" width=\"47.1664453125\" height=\"40\" stroke=\"black\" fill=\"white\" stroke-width=\"1\" /><text x=\"103.10095703125\" y=\"75.0\" dominant-baseline=\"middle\" text-anchor=\"middle\" font-size=\"14px\" font-family=\"Arial\">X^x0</text><rect x=\"146.6841796875\" y=\"55.0\" width=\"46.2105078125\" height=\"40\" stroke=\"black\" fill=\"white\" stroke-width=\"1\" /><text x=\"169.78943359375\" y=\"75.0\" dominant-baseline=\"middle\" text-anchor=\"middle\" font-size=\"14px\" font-family=\"Arial\">Y^x1</text><rect x=\"212.8946875\" y=\"55.0\" width=\"46.48175781250001\" height=\"40\" stroke=\"black\" fill=\"white\" stroke-width=\"1\" /><text x=\"236.13556640625\" y=\"75.0\" dominant-baseline=\"middle\" text-anchor=\"middle\" font-size=\"14px\" font-family=\"Arial\">Z^x2</text><rect x=\"279.3764453125\" y=\"5.0\" width=\"46.97394531250001\" height=\"40\" stroke=\"black\" fill=\"white\" stroke-width=\"1\" /><text x=\"302.86341796875\" y=\"25.0\" dominant-baseline=\"middle\" text-anchor=\"middle\" font-size=\"14px\" font-family=\"Arial\">X^x3</text><rect x=\"346.350390625\" y=\"5.0\" width=\"46.718007812500005\" height=\"40\" stroke=\"black\" fill=\"white\" stroke-width=\"1\" /><text x=\"369.70939453125\" y=\"25.0\" dominant-baseline=\"middle\" text-anchor=\"middle\" font-size=\"14px\" font-family=\"Arial\">Y^x4</text><rect x=\"413.0683984375\" y=\"5.0\" width=\"46.6611328125\" height=\"40\" stroke=\"black\" fill=\"white\" stroke-width=\"1\" /><text x=\"436.39896484375\" y=\"25.0\" dominant-baseline=\"middle\" text-anchor=\"middle\" font-size=\"14px\" font-family=\"Arial\">Z^x5</text><circle cx=\"499.72953125\" cy=\"25.0\" r=\"10.0\" /><rect x=\"479.72953125\" y=\"55.0\" width=\"40\" height=\"40\" stroke=\"black\" fill=\"white\" stroke-width=\"1\" /><text x=\"499.72953125\" y=\"75.0\" dominant-baseline=\"middle\" text-anchor=\"middle\" font-size=\"18px\" font-family=\"Arial\">X</text><rect x=\"539.72953125\" y=\"55.0\" width=\"62.65640625\" height=\"40\" stroke=\"black\" fill=\"white\" stroke-width=\"1\" /><text x=\"571.057734375\" y=\"75.0\" dominant-baseline=\"middle\" text-anchor=\"middle\" font-size=\"14px\" font-family=\"Arial\">Z^(-x2)</text><rect x=\"622.3859375000001\" y=\"55.0\" width=\"62.27578125000001\" height=\"40\" stroke=\"black\" fill=\"white\" stroke-width=\"1\" /><text x=\"653.523828125\" y=\"75.0\" dominant-baseline=\"middle\" text-anchor=\"middle\" font-size=\"14px\" font-family=\"Arial\">Y^(-x1)</text><rect x=\"704.6617187500001\" y=\"55.0\" width=\"62.86859375\" height=\"40\" stroke=\"black\" fill=\"white\" stroke-width=\"1\" /><text x=\"736.0960156250001\" y=\"75.0\" dominant-baseline=\"middle\" text-anchor=\"middle\" font-size=\"14px\" font-family=\"Arial\">X^(-x0)</text></svg>"
      ],
      "text/plain": [
       "<cirq.contrib.svg.svg.SVGCircuit at 0x7feec80c6588>"
      ]
     },
     "execution_count": 15,
     "metadata": {},
     "output_type": "execute_result"
    }
   ],
   "source": [
    "SVGCircuit(two_qubit_pool(*cirq.GridQubit.rect(1, 2), sympy.symbols('x0:6')))"
   ]
  },
  {
   "cell_type": "markdown",
   "metadata": {
    "colab_type": "text",
    "id": "AzVauXWD3v8C"
   },
   "source": [
    "##### 1.5.2.1 Quantum convolution\n",
    "\n",
    "As in the <a href=\"https://arxiv.org/abs/1810.03787\" class=\"external\">Cong and Lukin</a> paper, define the 1D quantum convolution as the application of a two-qubit parameterized unitary to every pair of adjacent qubits with a stride of one."
   ]
  },
  {
   "cell_type": "code",
   "execution_count": 16,
   "metadata": {
    "colab": {},
    "colab_type": "code",
    "execution": {
     "iopub.execute_input": "2020-10-07T11:11:45.444756Z",
     "iopub.status.busy": "2020-10-07T11:11:45.444208Z",
     "iopub.status.idle": "2020-10-07T11:11:45.446238Z",
     "shell.execute_reply": "2020-10-07T11:11:45.445800Z"
    },
    "id": "1Fa19Lzb3wnR"
   },
   "outputs": [],
   "source": [
    "def quantum_conv_circuit(bits, symbols):\n",
    "    \"\"\"Quantum Convolution Layer following the above diagram.\n",
    "    Return a Cirq circuit with the cascade of `two_qubit_unitary` applied\n",
    "    to all pairs of qubits in `bits` as in the diagram above.\n",
    "    \"\"\"\n",
    "    circuit = cirq.Circuit()\n",
    "    for first, second in zip(bits[0::2], bits[1::2]):\n",
    "        circuit += two_qubit_unitary([first, second], symbols)\n",
    "    for first, second in zip(bits[1::2], bits[2::2] + [bits[0]]):\n",
    "        circuit += two_qubit_unitary([first, second], symbols)\n",
    "    return circuit"
   ]
  },
  {
   "cell_type": "markdown",
   "metadata": {
    "colab_type": "text",
    "id": "fTzOm_t394Gj"
   },
   "source": [
    "Display the (very horizontal) circuit:"
   ]
  },
  {
   "cell_type": "code",
   "execution_count": 17,
   "metadata": {
    "colab": {},
    "colab_type": "code",
    "execution": {
     "iopub.execute_input": "2020-10-07T11:11:45.468204Z",
     "iopub.status.busy": "2020-10-07T11:11:45.467599Z",
     "iopub.status.idle": "2020-10-07T11:11:46.200172Z",
     "shell.execute_reply": "2020-10-07T11:11:46.200549Z"
    },
    "id": "Bi6q2nmY3z_U"
   },
   "outputs": [
    {
     "data": {
      "image/svg+xml": [
       "<svg xmlns=\"http://www.w3.org/2000/svg\" width=\"8696.547421875006\" height=\"400.0\"><line x1=\"34.7588671875\" x2=\"8666.547421875006\" y1=\"25.0\" y2=\"25.0\" stroke=\"#1967d2\" stroke-width=\"1\" /><line x1=\"34.7588671875\" x2=\"8666.547421875006\" y1=\"75.0\" y2=\"75.0\" stroke=\"#1967d2\" stroke-width=\"1\" /><line x1=\"34.7588671875\" x2=\"8666.547421875006\" y1=\"125.0\" y2=\"125.0\" stroke=\"#1967d2\" stroke-width=\"1\" /><line x1=\"34.7588671875\" x2=\"8666.547421875006\" y1=\"175.0\" y2=\"175.0\" stroke=\"#1967d2\" stroke-width=\"1\" /><line x1=\"34.7588671875\" x2=\"8666.547421875006\" y1=\"225.0\" y2=\"225.0\" stroke=\"#1967d2\" stroke-width=\"1\" /><line x1=\"34.7588671875\" x2=\"8666.547421875006\" y1=\"275.0\" y2=\"275.0\" stroke=\"#1967d2\" stroke-width=\"1\" /><line x1=\"34.7588671875\" x2=\"8666.547421875006\" y1=\"325.0\" y2=\"325.0\" stroke=\"#1967d2\" stroke-width=\"1\" /><line x1=\"34.7588671875\" x2=\"8666.547421875006\" y1=\"375.0\" y2=\"375.0\" stroke=\"#1967d2\" stroke-width=\"1\" /><line x1=\"508.0261328125\" x2=\"508.0261328125\" y1=\"25.0\" y2=\"75.0\" stroke=\"black\" stroke-width=\"3\" /><line x1=\"583.7519921875\" x2=\"583.7519921875\" y1=\"25.0\" y2=\"75.0\" stroke=\"black\" stroke-width=\"3\" /><line x1=\"659.5456640625\" x2=\"659.5456640625\" y1=\"25.0\" y2=\"75.0\" stroke=\"black\" stroke-width=\"3\" /><line x1=\"1581.4048437499998\" x2=\"1581.4048437499998\" y1=\"125.0\" y2=\"175.0\" stroke=\"black\" stroke-width=\"3\" /><line x1=\"1657.1307031249999\" x2=\"1657.1307031249999\" y1=\"125.0\" y2=\"175.0\" stroke=\"black\" stroke-width=\"3\" /><line x1=\"1732.9243749999998\" x2=\"1732.9243749999998\" y1=\"125.0\" y2=\"175.0\" stroke=\"black\" stroke-width=\"3\" /><line x1=\"2654.7835546875\" x2=\"2654.7835546875\" y1=\"225.0\" y2=\"275.0\" stroke=\"black\" stroke-width=\"3\" /><line x1=\"2730.5094140624997\" x2=\"2730.5094140624997\" y1=\"225.0\" y2=\"275.0\" stroke=\"black\" stroke-width=\"3\" /><line x1=\"2806.3030859375\" x2=\"2806.3030859375\" y1=\"225.0\" y2=\"275.0\" stroke=\"black\" stroke-width=\"3\" /><line x1=\"3728.1622656249992\" x2=\"3728.1622656249992\" y1=\"325.0\" y2=\"375.0\" stroke=\"black\" stroke-width=\"3\" /><line x1=\"3803.888124999999\" x2=\"3803.888124999999\" y1=\"325.0\" y2=\"375.0\" stroke=\"black\" stroke-width=\"3\" /><line x1=\"3879.6817968749992\" x2=\"3879.6817968749992\" y1=\"325.0\" y2=\"375.0\" stroke=\"black\" stroke-width=\"3\" /><line x1=\"4801.540976562499\" x2=\"4801.540976562499\" y1=\"75.0\" y2=\"125.0\" stroke=\"black\" stroke-width=\"3\" /><line x1=\"4877.266835937499\" x2=\"4877.266835937499\" y1=\"75.0\" y2=\"125.0\" stroke=\"black\" stroke-width=\"3\" /><line x1=\"4953.0605078125\" x2=\"4953.0605078125\" y1=\"75.0\" y2=\"125.0\" stroke=\"black\" stroke-width=\"3\" /><line x1=\"5874.919687500002\" x2=\"5874.919687500002\" y1=\"175.0\" y2=\"225.0\" stroke=\"black\" stroke-width=\"3\" /><line x1=\"5950.645546875002\" x2=\"5950.645546875002\" y1=\"175.0\" y2=\"225.0\" stroke=\"black\" stroke-width=\"3\" /><line x1=\"6026.4392187500025\" x2=\"6026.4392187500025\" y1=\"175.0\" y2=\"225.0\" stroke=\"black\" stroke-width=\"3\" /><line x1=\"6948.298398437504\" x2=\"6948.298398437504\" y1=\"275.0\" y2=\"325.0\" stroke=\"black\" stroke-width=\"3\" /><line x1=\"7024.024257812504\" x2=\"7024.024257812504\" y1=\"275.0\" y2=\"325.0\" stroke=\"black\" stroke-width=\"3\" /><line x1=\"7099.817929687505\" x2=\"7099.817929687505\" y1=\"275.0\" y2=\"325.0\" stroke=\"black\" stroke-width=\"3\" /><line x1=\"8021.677109375007\" x2=\"8021.677109375007\" y1=\"25.0\" y2=\"375.0\" stroke=\"black\" stroke-width=\"3\" /><line x1=\"8097.402968750007\" x2=\"8097.402968750007\" y1=\"25.0\" y2=\"375.0\" stroke=\"black\" stroke-width=\"3\" /><line x1=\"8173.196640625008\" x2=\"8173.196640625008\" y1=\"25.0\" y2=\"375.0\" stroke=\"black\" stroke-width=\"3\" /><rect x=\"10.0\" y=\"5.0\" width=\"49.517734375\" height=\"40\" stroke=\"black\" fill=\"white\" stroke-width=\"0\" /><text x=\"34.7588671875\" y=\"25.0\" dominant-baseline=\"middle\" text-anchor=\"middle\" font-size=\"14px\" font-family=\"Arial\">(0, 0): </text><rect x=\"10.0\" y=\"55.0\" width=\"49.517734375\" height=\"40\" stroke=\"black\" fill=\"white\" stroke-width=\"0\" /><text x=\"34.7588671875\" y=\"75.0\" dominant-baseline=\"middle\" text-anchor=\"middle\" font-size=\"14px\" font-family=\"Arial\">(0, 1): </text><rect x=\"10.0\" y=\"105.0\" width=\"49.517734375\" height=\"40\" stroke=\"black\" fill=\"white\" stroke-width=\"0\" /><text x=\"34.7588671875\" y=\"125.0\" dominant-baseline=\"middle\" text-anchor=\"middle\" font-size=\"14px\" font-family=\"Arial\">(0, 2): </text><rect x=\"10.0\" y=\"155.0\" width=\"49.517734375\" height=\"40\" stroke=\"black\" fill=\"white\" stroke-width=\"0\" /><text x=\"34.7588671875\" y=\"175.0\" dominant-baseline=\"middle\" text-anchor=\"middle\" font-size=\"14px\" font-family=\"Arial\">(0, 3): </text><rect x=\"10.0\" y=\"205.0\" width=\"49.517734375\" height=\"40\" stroke=\"black\" fill=\"white\" stroke-width=\"0\" /><text x=\"34.7588671875\" y=\"225.0\" dominant-baseline=\"middle\" text-anchor=\"middle\" font-size=\"14px\" font-family=\"Arial\">(0, 4): </text><rect x=\"10.0\" y=\"255.0\" width=\"49.517734375\" height=\"40\" stroke=\"black\" fill=\"white\" stroke-width=\"0\" /><text x=\"34.7588671875\" y=\"275.0\" dominant-baseline=\"middle\" text-anchor=\"middle\" font-size=\"14px\" font-family=\"Arial\">(0, 5): </text><rect x=\"10.0\" y=\"305.0\" width=\"49.517734375\" height=\"40\" stroke=\"black\" fill=\"white\" stroke-width=\"0\" /><text x=\"34.7588671875\" y=\"325.0\" dominant-baseline=\"middle\" text-anchor=\"middle\" font-size=\"14px\" font-family=\"Arial\">(0, 6): </text><rect x=\"10.0\" y=\"355.0\" width=\"49.517734375\" height=\"40\" stroke=\"black\" fill=\"white\" stroke-width=\"0\" /><text x=\"34.7588671875\" y=\"375.0\" dominant-baseline=\"middle\" text-anchor=\"middle\" font-size=\"14px\" font-family=\"Arial\">(0, 7): </text><rect x=\"79.517734375\" y=\"5.0\" width=\"47.1664453125\" height=\"40\" stroke=\"black\" fill=\"white\" stroke-width=\"1\" /><text x=\"103.10095703125\" y=\"25.0\" dominant-baseline=\"middle\" text-anchor=\"middle\" font-size=\"14px\" font-family=\"Arial\">X^x0</text><rect x=\"146.6841796875\" y=\"5.0\" width=\"46.2105078125\" height=\"40\" stroke=\"black\" fill=\"white\" stroke-width=\"1\" /><text x=\"169.78943359375\" y=\"25.0\" dominant-baseline=\"middle\" text-anchor=\"middle\" font-size=\"14px\" font-family=\"Arial\">Y^x1</text><rect x=\"212.8946875\" y=\"5.0\" width=\"46.48175781250001\" height=\"40\" stroke=\"black\" fill=\"white\" stroke-width=\"1\" /><text x=\"236.13556640625\" y=\"25.0\" dominant-baseline=\"middle\" text-anchor=\"middle\" font-size=\"14px\" font-family=\"Arial\">Z^x2</text><rect x=\"279.3764453125\" y=\"55.0\" width=\"46.97394531250001\" height=\"40\" stroke=\"black\" fill=\"white\" stroke-width=\"1\" /><text x=\"302.86341796875\" y=\"75.0\" dominant-baseline=\"middle\" text-anchor=\"middle\" font-size=\"14px\" font-family=\"Arial\">X^x3</text><rect x=\"346.350390625\" y=\"55.0\" width=\"46.718007812500005\" height=\"40\" stroke=\"black\" fill=\"white\" stroke-width=\"1\" /><text x=\"369.70939453125\" y=\"75.0\" dominant-baseline=\"middle\" text-anchor=\"middle\" font-size=\"14px\" font-family=\"Arial\">Y^x4</text><rect x=\"413.0683984375\" y=\"55.0\" width=\"46.6611328125\" height=\"40\" stroke=\"black\" fill=\"white\" stroke-width=\"1\" /><text x=\"436.39896484375\" y=\"75.0\" dominant-baseline=\"middle\" text-anchor=\"middle\" font-size=\"14px\" font-family=\"Arial\">Z^x5</text><rect x=\"479.72953125000004\" y=\"5.0\" width=\"56.593203125\" height=\"40\" stroke=\"black\" fill=\"white\" stroke-width=\"1\" /><text x=\"508.0261328125\" y=\"25.0\" dominant-baseline=\"middle\" text-anchor=\"middle\" font-size=\"14px\" font-family=\"Arial\">ZZ</text><rect x=\"479.72953125000004\" y=\"55.0\" width=\"56.593203125\" height=\"40\" stroke=\"black\" fill=\"white\" stroke-width=\"1\" /><text x=\"508.0261328125\" y=\"75.0\" dominant-baseline=\"middle\" text-anchor=\"middle\" font-size=\"14px\" font-family=\"Arial\">ZZ^x6</text><rect x=\"556.322734375\" y=\"5.0\" width=\"54.85851562500001\" height=\"40\" stroke=\"black\" fill=\"white\" stroke-width=\"1\" /><text x=\"583.7519921875\" y=\"25.0\" dominant-baseline=\"middle\" text-anchor=\"middle\" font-size=\"14px\" font-family=\"Arial\">YY</text><rect x=\"556.322734375\" y=\"55.0\" width=\"54.85851562500001\" height=\"40\" stroke=\"black\" fill=\"white\" stroke-width=\"1\" /><text x=\"583.7519921875\" y=\"75.0\" dominant-baseline=\"middle\" text-anchor=\"middle\" font-size=\"14px\" font-family=\"Arial\">YY^x7</text><rect x=\"631.18125\" y=\"5.0\" width=\"56.72882812500001\" height=\"40\" stroke=\"black\" fill=\"white\" stroke-width=\"1\" /><text x=\"659.5456640625\" y=\"25.0\" dominant-baseline=\"middle\" text-anchor=\"middle\" font-size=\"14px\" font-family=\"Arial\">XX</text><rect x=\"631.18125\" y=\"55.0\" width=\"56.72882812500001\" height=\"40\" stroke=\"black\" fill=\"white\" stroke-width=\"1\" /><text x=\"659.5456640625\" y=\"75.0\" dominant-baseline=\"middle\" text-anchor=\"middle\" font-size=\"14px\" font-family=\"Arial\">XX^x8</text><rect x=\"707.9100781249999\" y=\"5.0\" width=\"47.1117578125\" height=\"40\" stroke=\"black\" fill=\"white\" stroke-width=\"1\" /><text x=\"731.4659570312499\" y=\"25.0\" dominant-baseline=\"middle\" text-anchor=\"middle\" font-size=\"14px\" font-family=\"Arial\">X^x9</text><rect x=\"775.0218359374999\" y=\"5.0\" width=\"55.48085937500001\" height=\"40\" stroke=\"black\" fill=\"white\" stroke-width=\"1\" /><text x=\"802.7622656249998\" y=\"25.0\" dominant-baseline=\"middle\" text-anchor=\"middle\" font-size=\"14px\" font-family=\"Arial\">Y^x10</text><rect x=\"850.5026953124999\" y=\"5.0\" width=\"55.49835937500001\" height=\"40\" stroke=\"black\" fill=\"white\" stroke-width=\"1\" /><text x=\"878.2518749999999\" y=\"25.0\" dominant-baseline=\"middle\" text-anchor=\"middle\" font-size=\"14px\" font-family=\"Arial\">Z^x11</text><rect x=\"926.0010546874998\" y=\"55.0\" width=\"55.601171875000006\" height=\"40\" stroke=\"black\" fill=\"white\" stroke-width=\"1\" /><text x=\"953.8016406249999\" y=\"75.0\" dominant-baseline=\"middle\" text-anchor=\"middle\" font-size=\"14px\" font-family=\"Arial\">X^x12</text><rect x=\"1001.6022265624998\" y=\"55.0\" width=\"55.288359375\" height=\"40\" stroke=\"black\" fill=\"white\" stroke-width=\"1\" /><text x=\"1029.2464062499998\" y=\"75.0\" dominant-baseline=\"middle\" text-anchor=\"middle\" font-size=\"14px\" font-family=\"Arial\">Y^x13</text><rect x=\"1076.8905859374997\" y=\"55.0\" width=\"56.005859375\" height=\"40\" stroke=\"black\" fill=\"white\" stroke-width=\"1\" /><text x=\"1104.8935156249997\" y=\"75.0\" dominant-baseline=\"middle\" text-anchor=\"middle\" font-size=\"14px\" font-family=\"Arial\">Z^x14</text><rect x=\"1152.8964453124997\" y=\"105.0\" width=\"47.1664453125\" height=\"40\" stroke=\"black\" fill=\"white\" stroke-width=\"1\" /><text x=\"1176.4796679687497\" y=\"125.0\" dominant-baseline=\"middle\" text-anchor=\"middle\" font-size=\"14px\" font-family=\"Arial\">X^x0</text><rect x=\"1220.0628906249997\" y=\"105.0\" width=\"46.2105078125\" height=\"40\" stroke=\"black\" fill=\"white\" stroke-width=\"1\" /><text x=\"1243.1681445312497\" y=\"125.0\" dominant-baseline=\"middle\" text-anchor=\"middle\" font-size=\"14px\" font-family=\"Arial\">Y^x1</text><rect x=\"1286.2733984374997\" y=\"105.0\" width=\"46.48175781250001\" height=\"40\" stroke=\"black\" fill=\"white\" stroke-width=\"1\" /><text x=\"1309.5142773437497\" y=\"125.0\" dominant-baseline=\"middle\" text-anchor=\"middle\" font-size=\"14px\" font-family=\"Arial\">Z^x2</text><rect x=\"1352.7551562499998\" y=\"155.0\" width=\"46.97394531250001\" height=\"40\" stroke=\"black\" fill=\"white\" stroke-width=\"1\" /><text x=\"1376.2421289062497\" y=\"175.0\" dominant-baseline=\"middle\" text-anchor=\"middle\" font-size=\"14px\" font-family=\"Arial\">X^x3</text><rect x=\"1419.7291015624999\" y=\"155.0\" width=\"46.718007812500005\" height=\"40\" stroke=\"black\" fill=\"white\" stroke-width=\"1\" /><text x=\"1443.08810546875\" y=\"175.0\" dominant-baseline=\"middle\" text-anchor=\"middle\" font-size=\"14px\" font-family=\"Arial\">Y^x4</text><rect x=\"1486.4471093749999\" y=\"155.0\" width=\"46.6611328125\" height=\"40\" stroke=\"black\" fill=\"white\" stroke-width=\"1\" /><text x=\"1509.7776757812499\" y=\"175.0\" dominant-baseline=\"middle\" text-anchor=\"middle\" font-size=\"14px\" font-family=\"Arial\">Z^x5</text><rect x=\"1553.1082421874999\" y=\"105.0\" width=\"56.593203125\" height=\"40\" stroke=\"black\" fill=\"white\" stroke-width=\"1\" /><text x=\"1581.4048437499998\" y=\"125.0\" dominant-baseline=\"middle\" text-anchor=\"middle\" font-size=\"14px\" font-family=\"Arial\">ZZ</text><rect x=\"1553.1082421874999\" y=\"155.0\" width=\"56.593203125\" height=\"40\" stroke=\"black\" fill=\"white\" stroke-width=\"1\" /><text x=\"1581.4048437499998\" y=\"175.0\" dominant-baseline=\"middle\" text-anchor=\"middle\" font-size=\"14px\" font-family=\"Arial\">ZZ^x6</text><rect x=\"1629.7014453124998\" y=\"105.0\" width=\"54.85851562500001\" height=\"40\" stroke=\"black\" fill=\"white\" stroke-width=\"1\" /><text x=\"1657.1307031249999\" y=\"125.0\" dominant-baseline=\"middle\" text-anchor=\"middle\" font-size=\"14px\" font-family=\"Arial\">YY</text><rect x=\"1629.7014453124998\" y=\"155.0\" width=\"54.85851562500001\" height=\"40\" stroke=\"black\" fill=\"white\" stroke-width=\"1\" /><text x=\"1657.1307031249999\" y=\"175.0\" dominant-baseline=\"middle\" text-anchor=\"middle\" font-size=\"14px\" font-family=\"Arial\">YY^x7</text><rect x=\"1704.5599609375\" y=\"105.0\" width=\"56.72882812500001\" height=\"40\" stroke=\"black\" fill=\"white\" stroke-width=\"1\" /><text x=\"1732.9243749999998\" y=\"125.0\" dominant-baseline=\"middle\" text-anchor=\"middle\" font-size=\"14px\" font-family=\"Arial\">XX</text><rect x=\"1704.5599609375\" y=\"155.0\" width=\"56.72882812500001\" height=\"40\" stroke=\"black\" fill=\"white\" stroke-width=\"1\" /><text x=\"1732.9243749999998\" y=\"175.0\" dominant-baseline=\"middle\" text-anchor=\"middle\" font-size=\"14px\" font-family=\"Arial\">XX^x8</text><rect x=\"1781.2887890625\" y=\"105.0\" width=\"47.1117578125\" height=\"40\" stroke=\"black\" fill=\"white\" stroke-width=\"1\" /><text x=\"1804.84466796875\" y=\"125.0\" dominant-baseline=\"middle\" text-anchor=\"middle\" font-size=\"14px\" font-family=\"Arial\">X^x9</text><rect x=\"1848.400546875\" y=\"105.0\" width=\"55.48085937500001\" height=\"40\" stroke=\"black\" fill=\"white\" stroke-width=\"1\" /><text x=\"1876.1409765624999\" y=\"125.0\" dominant-baseline=\"middle\" text-anchor=\"middle\" font-size=\"14px\" font-family=\"Arial\">Y^x10</text><rect x=\"1923.8814062499998\" y=\"105.0\" width=\"55.49835937500001\" height=\"40\" stroke=\"black\" fill=\"white\" stroke-width=\"1\" /><text x=\"1951.6305859374997\" y=\"125.0\" dominant-baseline=\"middle\" text-anchor=\"middle\" font-size=\"14px\" font-family=\"Arial\">Z^x11</text><rect x=\"1999.379765625\" y=\"155.0\" width=\"55.601171875000006\" height=\"40\" stroke=\"black\" fill=\"white\" stroke-width=\"1\" /><text x=\"2027.1803515625\" y=\"175.0\" dominant-baseline=\"middle\" text-anchor=\"middle\" font-size=\"14px\" font-family=\"Arial\">X^x12</text><rect x=\"2074.9809375\" y=\"155.0\" width=\"55.288359375\" height=\"40\" stroke=\"black\" fill=\"white\" stroke-width=\"1\" /><text x=\"2102.6251171875\" y=\"175.0\" dominant-baseline=\"middle\" text-anchor=\"middle\" font-size=\"14px\" font-family=\"Arial\">Y^x13</text><rect x=\"2150.269296875\" y=\"155.0\" width=\"56.005859375\" height=\"40\" stroke=\"black\" fill=\"white\" stroke-width=\"1\" /><text x=\"2178.2722265625\" y=\"175.0\" dominant-baseline=\"middle\" text-anchor=\"middle\" font-size=\"14px\" font-family=\"Arial\">Z^x14</text><rect x=\"2226.27515625\" y=\"205.0\" width=\"47.1664453125\" height=\"40\" stroke=\"black\" fill=\"white\" stroke-width=\"1\" /><text x=\"2249.85837890625\" y=\"225.0\" dominant-baseline=\"middle\" text-anchor=\"middle\" font-size=\"14px\" font-family=\"Arial\">X^x0</text><rect x=\"2293.4416015624997\" y=\"205.0\" width=\"46.2105078125\" height=\"40\" stroke=\"black\" fill=\"white\" stroke-width=\"1\" /><text x=\"2316.5468554687495\" y=\"225.0\" dominant-baseline=\"middle\" text-anchor=\"middle\" font-size=\"14px\" font-family=\"Arial\">Y^x1</text><rect x=\"2359.652109375\" y=\"205.0\" width=\"46.48175781250001\" height=\"40\" stroke=\"black\" fill=\"white\" stroke-width=\"1\" /><text x=\"2382.89298828125\" y=\"225.0\" dominant-baseline=\"middle\" text-anchor=\"middle\" font-size=\"14px\" font-family=\"Arial\">Z^x2</text><rect x=\"2426.1338671874996\" y=\"255.0\" width=\"46.97394531250001\" height=\"40\" stroke=\"black\" fill=\"white\" stroke-width=\"1\" /><text x=\"2449.6208398437498\" y=\"275.0\" dominant-baseline=\"middle\" text-anchor=\"middle\" font-size=\"14px\" font-family=\"Arial\">X^x3</text><rect x=\"2493.1078124999995\" y=\"255.0\" width=\"46.718007812500005\" height=\"40\" stroke=\"black\" fill=\"white\" stroke-width=\"1\" /><text x=\"2516.4668164062496\" y=\"275.0\" dominant-baseline=\"middle\" text-anchor=\"middle\" font-size=\"14px\" font-family=\"Arial\">Y^x4</text><rect x=\"2559.8258203124997\" y=\"255.0\" width=\"46.6611328125\" height=\"40\" stroke=\"black\" fill=\"white\" stroke-width=\"1\" /><text x=\"2583.1563867187497\" y=\"275.0\" dominant-baseline=\"middle\" text-anchor=\"middle\" font-size=\"14px\" font-family=\"Arial\">Z^x5</text><rect x=\"2626.4869531249997\" y=\"205.0\" width=\"56.593203125\" height=\"40\" stroke=\"black\" fill=\"white\" stroke-width=\"1\" /><text x=\"2654.7835546875\" y=\"225.0\" dominant-baseline=\"middle\" text-anchor=\"middle\" font-size=\"14px\" font-family=\"Arial\">ZZ</text><rect x=\"2626.4869531249997\" y=\"255.0\" width=\"56.593203125\" height=\"40\" stroke=\"black\" fill=\"white\" stroke-width=\"1\" /><text x=\"2654.7835546875\" y=\"275.0\" dominant-baseline=\"middle\" text-anchor=\"middle\" font-size=\"14px\" font-family=\"Arial\">ZZ^x6</text><rect x=\"2703.0801562499996\" y=\"205.0\" width=\"54.85851562500001\" height=\"40\" stroke=\"black\" fill=\"white\" stroke-width=\"1\" /><text x=\"2730.5094140624997\" y=\"225.0\" dominant-baseline=\"middle\" text-anchor=\"middle\" font-size=\"14px\" font-family=\"Arial\">YY</text><rect x=\"2703.0801562499996\" y=\"255.0\" width=\"54.85851562500001\" height=\"40\" stroke=\"black\" fill=\"white\" stroke-width=\"1\" /><text x=\"2730.5094140624997\" y=\"275.0\" dominant-baseline=\"middle\" text-anchor=\"middle\" font-size=\"14px\" font-family=\"Arial\">YY^x7</text><rect x=\"2777.9386718749997\" y=\"205.0\" width=\"56.72882812500001\" height=\"40\" stroke=\"black\" fill=\"white\" stroke-width=\"1\" /><text x=\"2806.3030859375\" y=\"225.0\" dominant-baseline=\"middle\" text-anchor=\"middle\" font-size=\"14px\" font-family=\"Arial\">XX</text><rect x=\"2777.9386718749997\" y=\"255.0\" width=\"56.72882812500001\" height=\"40\" stroke=\"black\" fill=\"white\" stroke-width=\"1\" /><text x=\"2806.3030859375\" y=\"275.0\" dominant-baseline=\"middle\" text-anchor=\"middle\" font-size=\"14px\" font-family=\"Arial\">XX^x8</text><rect x=\"2854.6674999999996\" y=\"205.0\" width=\"47.1117578125\" height=\"40\" stroke=\"black\" fill=\"white\" stroke-width=\"1\" /><text x=\"2878.2233789062498\" y=\"225.0\" dominant-baseline=\"middle\" text-anchor=\"middle\" font-size=\"14px\" font-family=\"Arial\">X^x9</text><rect x=\"2921.7792578124995\" y=\"205.0\" width=\"55.48085937500001\" height=\"40\" stroke=\"black\" fill=\"white\" stroke-width=\"1\" /><text x=\"2949.5196874999997\" y=\"225.0\" dominant-baseline=\"middle\" text-anchor=\"middle\" font-size=\"14px\" font-family=\"Arial\">Y^x10</text><rect x=\"2997.2601171874994\" y=\"205.0\" width=\"55.49835937500001\" height=\"40\" stroke=\"black\" fill=\"white\" stroke-width=\"1\" /><text x=\"3025.0092968749996\" y=\"225.0\" dominant-baseline=\"middle\" text-anchor=\"middle\" font-size=\"14px\" font-family=\"Arial\">Z^x11</text><rect x=\"3072.7584765624993\" y=\"255.0\" width=\"55.601171875000006\" height=\"40\" stroke=\"black\" fill=\"white\" stroke-width=\"1\" /><text x=\"3100.559062499999\" y=\"275.0\" dominant-baseline=\"middle\" text-anchor=\"middle\" font-size=\"14px\" font-family=\"Arial\">X^x12</text><rect x=\"3148.3596484374993\" y=\"255.0\" width=\"55.288359375\" height=\"40\" stroke=\"black\" fill=\"white\" stroke-width=\"1\" /><text x=\"3176.0038281249995\" y=\"275.0\" dominant-baseline=\"middle\" text-anchor=\"middle\" font-size=\"14px\" font-family=\"Arial\">Y^x13</text><rect x=\"3223.648007812499\" y=\"255.0\" width=\"56.005859375\" height=\"40\" stroke=\"black\" fill=\"white\" stroke-width=\"1\" /><text x=\"3251.650937499999\" y=\"275.0\" dominant-baseline=\"middle\" text-anchor=\"middle\" font-size=\"14px\" font-family=\"Arial\">Z^x14</text><rect x=\"3299.653867187499\" y=\"305.0\" width=\"47.1664453125\" height=\"40\" stroke=\"black\" fill=\"white\" stroke-width=\"1\" /><text x=\"3323.2370898437493\" y=\"325.0\" dominant-baseline=\"middle\" text-anchor=\"middle\" font-size=\"14px\" font-family=\"Arial\">X^x0</text><rect x=\"3366.820312499999\" y=\"305.0\" width=\"46.2105078125\" height=\"40\" stroke=\"black\" fill=\"white\" stroke-width=\"1\" /><text x=\"3389.925566406249\" y=\"325.0\" dominant-baseline=\"middle\" text-anchor=\"middle\" font-size=\"14px\" font-family=\"Arial\">Y^x1</text><rect x=\"3433.030820312499\" y=\"305.0\" width=\"46.48175781250001\" height=\"40\" stroke=\"black\" fill=\"white\" stroke-width=\"1\" /><text x=\"3456.2716992187493\" y=\"325.0\" dominant-baseline=\"middle\" text-anchor=\"middle\" font-size=\"14px\" font-family=\"Arial\">Z^x2</text><rect x=\"3499.512578124999\" y=\"355.0\" width=\"46.97394531250001\" height=\"40\" stroke=\"black\" fill=\"white\" stroke-width=\"1\" /><text x=\"3522.999550781249\" y=\"375.0\" dominant-baseline=\"middle\" text-anchor=\"middle\" font-size=\"14px\" font-family=\"Arial\">X^x3</text><rect x=\"3566.486523437499\" y=\"355.0\" width=\"46.718007812500005\" height=\"40\" stroke=\"black\" fill=\"white\" stroke-width=\"1\" /><text x=\"3589.845527343749\" y=\"375.0\" dominant-baseline=\"middle\" text-anchor=\"middle\" font-size=\"14px\" font-family=\"Arial\">Y^x4</text><rect x=\"3633.204531249999\" y=\"355.0\" width=\"46.6611328125\" height=\"40\" stroke=\"black\" fill=\"white\" stroke-width=\"1\" /><text x=\"3656.535097656249\" y=\"375.0\" dominant-baseline=\"middle\" text-anchor=\"middle\" font-size=\"14px\" font-family=\"Arial\">Z^x5</text><rect x=\"3699.865664062499\" y=\"305.0\" width=\"56.593203125\" height=\"40\" stroke=\"black\" fill=\"white\" stroke-width=\"1\" /><text x=\"3728.1622656249992\" y=\"325.0\" dominant-baseline=\"middle\" text-anchor=\"middle\" font-size=\"14px\" font-family=\"Arial\">ZZ</text><rect x=\"3699.865664062499\" y=\"355.0\" width=\"56.593203125\" height=\"40\" stroke=\"black\" fill=\"white\" stroke-width=\"1\" /><text x=\"3728.1622656249992\" y=\"375.0\" dominant-baseline=\"middle\" text-anchor=\"middle\" font-size=\"14px\" font-family=\"Arial\">ZZ^x6</text><rect x=\"3776.458867187499\" y=\"305.0\" width=\"54.85851562500001\" height=\"40\" stroke=\"black\" fill=\"white\" stroke-width=\"1\" /><text x=\"3803.888124999999\" y=\"325.0\" dominant-baseline=\"middle\" text-anchor=\"middle\" font-size=\"14px\" font-family=\"Arial\">YY</text><rect x=\"3776.458867187499\" y=\"355.0\" width=\"54.85851562500001\" height=\"40\" stroke=\"black\" fill=\"white\" stroke-width=\"1\" /><text x=\"3803.888124999999\" y=\"375.0\" dominant-baseline=\"middle\" text-anchor=\"middle\" font-size=\"14px\" font-family=\"Arial\">YY^x7</text><rect x=\"3851.317382812499\" y=\"305.0\" width=\"56.72882812500001\" height=\"40\" stroke=\"black\" fill=\"white\" stroke-width=\"1\" /><text x=\"3879.6817968749992\" y=\"325.0\" dominant-baseline=\"middle\" text-anchor=\"middle\" font-size=\"14px\" font-family=\"Arial\">XX</text><rect x=\"3851.317382812499\" y=\"355.0\" width=\"56.72882812500001\" height=\"40\" stroke=\"black\" fill=\"white\" stroke-width=\"1\" /><text x=\"3879.6817968749992\" y=\"375.0\" dominant-baseline=\"middle\" text-anchor=\"middle\" font-size=\"14px\" font-family=\"Arial\">XX^x8</text><rect x=\"3928.046210937499\" y=\"305.0\" width=\"47.1117578125\" height=\"40\" stroke=\"black\" fill=\"white\" stroke-width=\"1\" /><text x=\"3951.602089843749\" y=\"325.0\" dominant-baseline=\"middle\" text-anchor=\"middle\" font-size=\"14px\" font-family=\"Arial\">X^x9</text><rect x=\"3995.157968749999\" y=\"305.0\" width=\"55.48085937500001\" height=\"40\" stroke=\"black\" fill=\"white\" stroke-width=\"1\" /><text x=\"4022.898398437499\" y=\"325.0\" dominant-baseline=\"middle\" text-anchor=\"middle\" font-size=\"14px\" font-family=\"Arial\">Y^x10</text><rect x=\"4070.6388281249983\" y=\"305.0\" width=\"55.49835937500001\" height=\"40\" stroke=\"black\" fill=\"white\" stroke-width=\"1\" /><text x=\"4098.3880078124985\" y=\"325.0\" dominant-baseline=\"middle\" text-anchor=\"middle\" font-size=\"14px\" font-family=\"Arial\">Z^x11</text><rect x=\"4146.137187499999\" y=\"355.0\" width=\"55.601171875000006\" height=\"40\" stroke=\"black\" fill=\"white\" stroke-width=\"1\" /><text x=\"4173.937773437498\" y=\"375.0\" dominant-baseline=\"middle\" text-anchor=\"middle\" font-size=\"14px\" font-family=\"Arial\">X^x12</text><rect x=\"4221.738359374998\" y=\"355.0\" width=\"55.288359375\" height=\"40\" stroke=\"black\" fill=\"white\" stroke-width=\"1\" /><text x=\"4249.382539062498\" y=\"375.0\" dominant-baseline=\"middle\" text-anchor=\"middle\" font-size=\"14px\" font-family=\"Arial\">Y^x13</text><rect x=\"4297.0267187499985\" y=\"355.0\" width=\"56.005859375\" height=\"40\" stroke=\"black\" fill=\"white\" stroke-width=\"1\" /><text x=\"4325.0296484374985\" y=\"375.0\" dominant-baseline=\"middle\" text-anchor=\"middle\" font-size=\"14px\" font-family=\"Arial\">Z^x14</text><rect x=\"4373.0325781249985\" y=\"55.0\" width=\"47.1664453125\" height=\"40\" stroke=\"black\" fill=\"white\" stroke-width=\"1\" /><text x=\"4396.615800781248\" y=\"75.0\" dominant-baseline=\"middle\" text-anchor=\"middle\" font-size=\"14px\" font-family=\"Arial\">X^x0</text><rect x=\"4440.199023437499\" y=\"55.0\" width=\"46.2105078125\" height=\"40\" stroke=\"black\" fill=\"white\" stroke-width=\"1\" /><text x=\"4463.304277343749\" y=\"75.0\" dominant-baseline=\"middle\" text-anchor=\"middle\" font-size=\"14px\" font-family=\"Arial\">Y^x1</text><rect x=\"4506.4095312499985\" y=\"55.0\" width=\"46.48175781250001\" height=\"40\" stroke=\"black\" fill=\"white\" stroke-width=\"1\" /><text x=\"4529.650410156249\" y=\"75.0\" dominant-baseline=\"middle\" text-anchor=\"middle\" font-size=\"14px\" font-family=\"Arial\">Z^x2</text><rect x=\"4572.891289062499\" y=\"105.0\" width=\"46.97394531250001\" height=\"40\" stroke=\"black\" fill=\"white\" stroke-width=\"1\" /><text x=\"4596.378261718749\" y=\"125.0\" dominant-baseline=\"middle\" text-anchor=\"middle\" font-size=\"14px\" font-family=\"Arial\">X^x3</text><rect x=\"4639.865234374999\" y=\"105.0\" width=\"46.718007812500005\" height=\"40\" stroke=\"black\" fill=\"white\" stroke-width=\"1\" /><text x=\"4663.224238281249\" y=\"125.0\" dominant-baseline=\"middle\" text-anchor=\"middle\" font-size=\"14px\" font-family=\"Arial\">Y^x4</text><rect x=\"4706.583242187499\" y=\"105.0\" width=\"46.6611328125\" height=\"40\" stroke=\"black\" fill=\"white\" stroke-width=\"1\" /><text x=\"4729.913808593749\" y=\"125.0\" dominant-baseline=\"middle\" text-anchor=\"middle\" font-size=\"14px\" font-family=\"Arial\">Z^x5</text><rect x=\"4773.244374999999\" y=\"55.0\" width=\"56.593203125\" height=\"40\" stroke=\"black\" fill=\"white\" stroke-width=\"1\" /><text x=\"4801.540976562499\" y=\"75.0\" dominant-baseline=\"middle\" text-anchor=\"middle\" font-size=\"14px\" font-family=\"Arial\">ZZ</text><rect x=\"4773.244374999999\" y=\"105.0\" width=\"56.593203125\" height=\"40\" stroke=\"black\" fill=\"white\" stroke-width=\"1\" /><text x=\"4801.540976562499\" y=\"125.0\" dominant-baseline=\"middle\" text-anchor=\"middle\" font-size=\"14px\" font-family=\"Arial\">ZZ^x6</text><rect x=\"4849.837578125\" y=\"55.0\" width=\"54.85851562500001\" height=\"40\" stroke=\"black\" fill=\"white\" stroke-width=\"1\" /><text x=\"4877.266835937499\" y=\"75.0\" dominant-baseline=\"middle\" text-anchor=\"middle\" font-size=\"14px\" font-family=\"Arial\">YY</text><rect x=\"4849.837578125\" y=\"105.0\" width=\"54.85851562500001\" height=\"40\" stroke=\"black\" fill=\"white\" stroke-width=\"1\" /><text x=\"4877.266835937499\" y=\"125.0\" dominant-baseline=\"middle\" text-anchor=\"middle\" font-size=\"14px\" font-family=\"Arial\">YY^x7</text><rect x=\"4924.69609375\" y=\"55.0\" width=\"56.72882812500001\" height=\"40\" stroke=\"black\" fill=\"white\" stroke-width=\"1\" /><text x=\"4953.0605078125\" y=\"75.0\" dominant-baseline=\"middle\" text-anchor=\"middle\" font-size=\"14px\" font-family=\"Arial\">XX</text><rect x=\"4924.69609375\" y=\"105.0\" width=\"56.72882812500001\" height=\"40\" stroke=\"black\" fill=\"white\" stroke-width=\"1\" /><text x=\"4953.0605078125\" y=\"125.0\" dominant-baseline=\"middle\" text-anchor=\"middle\" font-size=\"14px\" font-family=\"Arial\">XX^x8</text><rect x=\"5001.424921875\" y=\"55.0\" width=\"47.1117578125\" height=\"40\" stroke=\"black\" fill=\"white\" stroke-width=\"1\" /><text x=\"5024.98080078125\" y=\"75.0\" dominant-baseline=\"middle\" text-anchor=\"middle\" font-size=\"14px\" font-family=\"Arial\">X^x9</text><rect x=\"5068.5366796875005\" y=\"55.0\" width=\"55.48085937500001\" height=\"40\" stroke=\"black\" fill=\"white\" stroke-width=\"1\" /><text x=\"5096.277109375001\" y=\"75.0\" dominant-baseline=\"middle\" text-anchor=\"middle\" font-size=\"14px\" font-family=\"Arial\">Y^x10</text><rect x=\"5144.017539062501\" y=\"55.0\" width=\"55.49835937500001\" height=\"40\" stroke=\"black\" fill=\"white\" stroke-width=\"1\" /><text x=\"5171.766718750001\" y=\"75.0\" dominant-baseline=\"middle\" text-anchor=\"middle\" font-size=\"14px\" font-family=\"Arial\">Z^x11</text><rect x=\"5219.515898437501\" y=\"105.0\" width=\"55.601171875000006\" height=\"40\" stroke=\"black\" fill=\"white\" stroke-width=\"1\" /><text x=\"5247.316484375001\" y=\"125.0\" dominant-baseline=\"middle\" text-anchor=\"middle\" font-size=\"14px\" font-family=\"Arial\">X^x12</text><rect x=\"5295.117070312501\" y=\"105.0\" width=\"55.288359375\" height=\"40\" stroke=\"black\" fill=\"white\" stroke-width=\"1\" /><text x=\"5322.7612500000005\" y=\"125.0\" dominant-baseline=\"middle\" text-anchor=\"middle\" font-size=\"14px\" font-family=\"Arial\">Y^x13</text><rect x=\"5370.405429687501\" y=\"105.0\" width=\"56.005859375\" height=\"40\" stroke=\"black\" fill=\"white\" stroke-width=\"1\" /><text x=\"5398.408359375001\" y=\"125.0\" dominant-baseline=\"middle\" text-anchor=\"middle\" font-size=\"14px\" font-family=\"Arial\">Z^x14</text><rect x=\"5446.411289062501\" y=\"155.0\" width=\"47.1664453125\" height=\"40\" stroke=\"black\" fill=\"white\" stroke-width=\"1\" /><text x=\"5469.994511718751\" y=\"175.0\" dominant-baseline=\"middle\" text-anchor=\"middle\" font-size=\"14px\" font-family=\"Arial\">X^x0</text><rect x=\"5513.5777343750015\" y=\"155.0\" width=\"46.2105078125\" height=\"40\" stroke=\"black\" fill=\"white\" stroke-width=\"1\" /><text x=\"5536.682988281252\" y=\"175.0\" dominant-baseline=\"middle\" text-anchor=\"middle\" font-size=\"14px\" font-family=\"Arial\">Y^x1</text><rect x=\"5579.788242187501\" y=\"155.0\" width=\"46.48175781250001\" height=\"40\" stroke=\"black\" fill=\"white\" stroke-width=\"1\" /><text x=\"5603.029121093751\" y=\"175.0\" dominant-baseline=\"middle\" text-anchor=\"middle\" font-size=\"14px\" font-family=\"Arial\">Z^x2</text><rect x=\"5646.270000000001\" y=\"205.0\" width=\"46.97394531250001\" height=\"40\" stroke=\"black\" fill=\"white\" stroke-width=\"1\" /><text x=\"5669.7569726562515\" y=\"225.0\" dominant-baseline=\"middle\" text-anchor=\"middle\" font-size=\"14px\" font-family=\"Arial\">X^x3</text><rect x=\"5713.243945312502\" y=\"205.0\" width=\"46.718007812500005\" height=\"40\" stroke=\"black\" fill=\"white\" stroke-width=\"1\" /><text x=\"5736.602949218752\" y=\"225.0\" dominant-baseline=\"middle\" text-anchor=\"middle\" font-size=\"14px\" font-family=\"Arial\">Y^x4</text><rect x=\"5779.961953125002\" y=\"205.0\" width=\"46.6611328125\" height=\"40\" stroke=\"black\" fill=\"white\" stroke-width=\"1\" /><text x=\"5803.292519531252\" y=\"225.0\" dominant-baseline=\"middle\" text-anchor=\"middle\" font-size=\"14px\" font-family=\"Arial\">Z^x5</text><rect x=\"5846.623085937502\" y=\"155.0\" width=\"56.593203125\" height=\"40\" stroke=\"black\" fill=\"white\" stroke-width=\"1\" /><text x=\"5874.919687500002\" y=\"175.0\" dominant-baseline=\"middle\" text-anchor=\"middle\" font-size=\"14px\" font-family=\"Arial\">ZZ</text><rect x=\"5846.623085937502\" y=\"205.0\" width=\"56.593203125\" height=\"40\" stroke=\"black\" fill=\"white\" stroke-width=\"1\" /><text x=\"5874.919687500002\" y=\"225.0\" dominant-baseline=\"middle\" text-anchor=\"middle\" font-size=\"14px\" font-family=\"Arial\">ZZ^x6</text><rect x=\"5923.216289062502\" y=\"155.0\" width=\"54.85851562500001\" height=\"40\" stroke=\"black\" fill=\"white\" stroke-width=\"1\" /><text x=\"5950.645546875002\" y=\"175.0\" dominant-baseline=\"middle\" text-anchor=\"middle\" font-size=\"14px\" font-family=\"Arial\">YY</text><rect x=\"5923.216289062502\" y=\"205.0\" width=\"54.85851562500001\" height=\"40\" stroke=\"black\" fill=\"white\" stroke-width=\"1\" /><text x=\"5950.645546875002\" y=\"225.0\" dominant-baseline=\"middle\" text-anchor=\"middle\" font-size=\"14px\" font-family=\"Arial\">YY^x7</text><rect x=\"5998.074804687502\" y=\"155.0\" width=\"56.72882812500001\" height=\"40\" stroke=\"black\" fill=\"white\" stroke-width=\"1\" /><text x=\"6026.4392187500025\" y=\"175.0\" dominant-baseline=\"middle\" text-anchor=\"middle\" font-size=\"14px\" font-family=\"Arial\">XX</text><rect x=\"5998.074804687502\" y=\"205.0\" width=\"56.72882812500001\" height=\"40\" stroke=\"black\" fill=\"white\" stroke-width=\"1\" /><text x=\"6026.4392187500025\" y=\"225.0\" dominant-baseline=\"middle\" text-anchor=\"middle\" font-size=\"14px\" font-family=\"Arial\">XX^x8</text><rect x=\"6074.803632812503\" y=\"155.0\" width=\"47.1117578125\" height=\"40\" stroke=\"black\" fill=\"white\" stroke-width=\"1\" /><text x=\"6098.359511718752\" y=\"175.0\" dominant-baseline=\"middle\" text-anchor=\"middle\" font-size=\"14px\" font-family=\"Arial\">X^x9</text><rect x=\"6141.915390625003\" y=\"155.0\" width=\"55.48085937500001\" height=\"40\" stroke=\"black\" fill=\"white\" stroke-width=\"1\" /><text x=\"6169.655820312503\" y=\"175.0\" dominant-baseline=\"middle\" text-anchor=\"middle\" font-size=\"14px\" font-family=\"Arial\">Y^x10</text><rect x=\"6217.396250000003\" y=\"155.0\" width=\"55.49835937500001\" height=\"40\" stroke=\"black\" fill=\"white\" stroke-width=\"1\" /><text x=\"6245.145429687504\" y=\"175.0\" dominant-baseline=\"middle\" text-anchor=\"middle\" font-size=\"14px\" font-family=\"Arial\">Z^x11</text><rect x=\"6292.894609375004\" y=\"205.0\" width=\"55.601171875000006\" height=\"40\" stroke=\"black\" fill=\"white\" stroke-width=\"1\" /><text x=\"6320.6951953125035\" y=\"225.0\" dominant-baseline=\"middle\" text-anchor=\"middle\" font-size=\"14px\" font-family=\"Arial\">X^x12</text><rect x=\"6368.495781250003\" y=\"205.0\" width=\"55.288359375\" height=\"40\" stroke=\"black\" fill=\"white\" stroke-width=\"1\" /><text x=\"6396.139960937503\" y=\"225.0\" dominant-baseline=\"middle\" text-anchor=\"middle\" font-size=\"14px\" font-family=\"Arial\">Y^x13</text><rect x=\"6443.784140625004\" y=\"205.0\" width=\"56.005859375\" height=\"40\" stroke=\"black\" fill=\"white\" stroke-width=\"1\" /><text x=\"6471.787070312504\" y=\"225.0\" dominant-baseline=\"middle\" text-anchor=\"middle\" font-size=\"14px\" font-family=\"Arial\">Z^x14</text><rect x=\"6519.790000000004\" y=\"255.0\" width=\"47.1664453125\" height=\"40\" stroke=\"black\" fill=\"white\" stroke-width=\"1\" /><text x=\"6543.373222656253\" y=\"275.0\" dominant-baseline=\"middle\" text-anchor=\"middle\" font-size=\"14px\" font-family=\"Arial\">X^x0</text><rect x=\"6586.956445312504\" y=\"255.0\" width=\"46.2105078125\" height=\"40\" stroke=\"black\" fill=\"white\" stroke-width=\"1\" /><text x=\"6610.061699218754\" y=\"275.0\" dominant-baseline=\"middle\" text-anchor=\"middle\" font-size=\"14px\" font-family=\"Arial\">Y^x1</text><rect x=\"6653.166953125004\" y=\"255.0\" width=\"46.48175781250001\" height=\"40\" stroke=\"black\" fill=\"white\" stroke-width=\"1\" /><text x=\"6676.407832031254\" y=\"275.0\" dominant-baseline=\"middle\" text-anchor=\"middle\" font-size=\"14px\" font-family=\"Arial\">Z^x2</text><rect x=\"6719.648710937504\" y=\"305.0\" width=\"46.97394531250001\" height=\"40\" stroke=\"black\" fill=\"white\" stroke-width=\"1\" /><text x=\"6743.135683593754\" y=\"325.0\" dominant-baseline=\"middle\" text-anchor=\"middle\" font-size=\"14px\" font-family=\"Arial\">X^x3</text><rect x=\"6786.622656250004\" y=\"305.0\" width=\"46.718007812500005\" height=\"40\" stroke=\"black\" fill=\"white\" stroke-width=\"1\" /><text x=\"6809.981660156254\" y=\"325.0\" dominant-baseline=\"middle\" text-anchor=\"middle\" font-size=\"14px\" font-family=\"Arial\">Y^x4</text><rect x=\"6853.340664062504\" y=\"305.0\" width=\"46.6611328125\" height=\"40\" stroke=\"black\" fill=\"white\" stroke-width=\"1\" /><text x=\"6876.671230468754\" y=\"325.0\" dominant-baseline=\"middle\" text-anchor=\"middle\" font-size=\"14px\" font-family=\"Arial\">Z^x5</text><rect x=\"6920.001796875004\" y=\"255.0\" width=\"56.593203125\" height=\"40\" stroke=\"black\" fill=\"white\" stroke-width=\"1\" /><text x=\"6948.298398437504\" y=\"275.0\" dominant-baseline=\"middle\" text-anchor=\"middle\" font-size=\"14px\" font-family=\"Arial\">ZZ</text><rect x=\"6920.001796875004\" y=\"305.0\" width=\"56.593203125\" height=\"40\" stroke=\"black\" fill=\"white\" stroke-width=\"1\" /><text x=\"6948.298398437504\" y=\"325.0\" dominant-baseline=\"middle\" text-anchor=\"middle\" font-size=\"14px\" font-family=\"Arial\">ZZ^x6</text><rect x=\"6996.595000000005\" y=\"255.0\" width=\"54.85851562500001\" height=\"40\" stroke=\"black\" fill=\"white\" stroke-width=\"1\" /><text x=\"7024.024257812504\" y=\"275.0\" dominant-baseline=\"middle\" text-anchor=\"middle\" font-size=\"14px\" font-family=\"Arial\">YY</text><rect x=\"6996.595000000005\" y=\"305.0\" width=\"54.85851562500001\" height=\"40\" stroke=\"black\" fill=\"white\" stroke-width=\"1\" /><text x=\"7024.024257812504\" y=\"325.0\" dominant-baseline=\"middle\" text-anchor=\"middle\" font-size=\"14px\" font-family=\"Arial\">YY^x7</text><rect x=\"7071.453515625005\" y=\"255.0\" width=\"56.72882812500001\" height=\"40\" stroke=\"black\" fill=\"white\" stroke-width=\"1\" /><text x=\"7099.817929687505\" y=\"275.0\" dominant-baseline=\"middle\" text-anchor=\"middle\" font-size=\"14px\" font-family=\"Arial\">XX</text><rect x=\"7071.453515625005\" y=\"305.0\" width=\"56.72882812500001\" height=\"40\" stroke=\"black\" fill=\"white\" stroke-width=\"1\" /><text x=\"7099.817929687505\" y=\"325.0\" dominant-baseline=\"middle\" text-anchor=\"middle\" font-size=\"14px\" font-family=\"Arial\">XX^x8</text><rect x=\"7148.182343750005\" y=\"255.0\" width=\"47.1117578125\" height=\"40\" stroke=\"black\" fill=\"white\" stroke-width=\"1\" /><text x=\"7171.738222656255\" y=\"275.0\" dominant-baseline=\"middle\" text-anchor=\"middle\" font-size=\"14px\" font-family=\"Arial\">X^x9</text><rect x=\"7215.294101562506\" y=\"255.0\" width=\"55.48085937500001\" height=\"40\" stroke=\"black\" fill=\"white\" stroke-width=\"1\" /><text x=\"7243.034531250006\" y=\"275.0\" dominant-baseline=\"middle\" text-anchor=\"middle\" font-size=\"14px\" font-family=\"Arial\">Y^x10</text><rect x=\"7290.774960937506\" y=\"255.0\" width=\"55.49835937500001\" height=\"40\" stroke=\"black\" fill=\"white\" stroke-width=\"1\" /><text x=\"7318.524140625006\" y=\"275.0\" dominant-baseline=\"middle\" text-anchor=\"middle\" font-size=\"14px\" font-family=\"Arial\">Z^x11</text><rect x=\"7366.273320312506\" y=\"305.0\" width=\"55.601171875000006\" height=\"40\" stroke=\"black\" fill=\"white\" stroke-width=\"1\" /><text x=\"7394.073906250006\" y=\"325.0\" dominant-baseline=\"middle\" text-anchor=\"middle\" font-size=\"14px\" font-family=\"Arial\">X^x12</text><rect x=\"7441.874492187506\" y=\"305.0\" width=\"55.288359375\" height=\"40\" stroke=\"black\" fill=\"white\" stroke-width=\"1\" /><text x=\"7469.518671875006\" y=\"325.0\" dominant-baseline=\"middle\" text-anchor=\"middle\" font-size=\"14px\" font-family=\"Arial\">Y^x13</text><rect x=\"7517.162851562506\" y=\"305.0\" width=\"56.005859375\" height=\"40\" stroke=\"black\" fill=\"white\" stroke-width=\"1\" /><text x=\"7545.165781250006\" y=\"325.0\" dominant-baseline=\"middle\" text-anchor=\"middle\" font-size=\"14px\" font-family=\"Arial\">Z^x14</text><rect x=\"7593.168710937506\" y=\"355.0\" width=\"47.1664453125\" height=\"40\" stroke=\"black\" fill=\"white\" stroke-width=\"1\" /><text x=\"7616.751933593756\" y=\"375.0\" dominant-baseline=\"middle\" text-anchor=\"middle\" font-size=\"14px\" font-family=\"Arial\">X^x0</text><rect x=\"7660.335156250007\" y=\"355.0\" width=\"46.2105078125\" height=\"40\" stroke=\"black\" fill=\"white\" stroke-width=\"1\" /><text x=\"7683.440410156257\" y=\"375.0\" dominant-baseline=\"middle\" text-anchor=\"middle\" font-size=\"14px\" font-family=\"Arial\">Y^x1</text><rect x=\"7726.545664062506\" y=\"355.0\" width=\"46.48175781250001\" height=\"40\" stroke=\"black\" fill=\"white\" stroke-width=\"1\" /><text x=\"7749.786542968756\" y=\"375.0\" dominant-baseline=\"middle\" text-anchor=\"middle\" font-size=\"14px\" font-family=\"Arial\">Z^x2</text><rect x=\"7793.027421875006\" y=\"5.0\" width=\"46.97394531250001\" height=\"40\" stroke=\"black\" fill=\"white\" stroke-width=\"1\" /><text x=\"7816.514394531257\" y=\"25.0\" dominant-baseline=\"middle\" text-anchor=\"middle\" font-size=\"14px\" font-family=\"Arial\">X^x3</text><rect x=\"7860.001367187507\" y=\"5.0\" width=\"46.718007812500005\" height=\"40\" stroke=\"black\" fill=\"white\" stroke-width=\"1\" /><text x=\"7883.360371093757\" y=\"25.0\" dominant-baseline=\"middle\" text-anchor=\"middle\" font-size=\"14px\" font-family=\"Arial\">Y^x4</text><rect x=\"7926.719375000007\" y=\"5.0\" width=\"46.6611328125\" height=\"40\" stroke=\"black\" fill=\"white\" stroke-width=\"1\" /><text x=\"7950.049941406257\" y=\"25.0\" dominant-baseline=\"middle\" text-anchor=\"middle\" font-size=\"14px\" font-family=\"Arial\">Z^x5</text><rect x=\"7993.380507812507\" y=\"355.0\" width=\"56.593203125\" height=\"40\" stroke=\"black\" fill=\"white\" stroke-width=\"1\" /><text x=\"8021.677109375007\" y=\"375.0\" dominant-baseline=\"middle\" text-anchor=\"middle\" font-size=\"14px\" font-family=\"Arial\">ZZ^x6</text><rect x=\"7993.380507812507\" y=\"5.0\" width=\"56.593203125\" height=\"40\" stroke=\"black\" fill=\"white\" stroke-width=\"1\" /><text x=\"8021.677109375007\" y=\"25.0\" dominant-baseline=\"middle\" text-anchor=\"middle\" font-size=\"14px\" font-family=\"Arial\">ZZ</text><rect x=\"8069.973710937507\" y=\"355.0\" width=\"54.85851562500001\" height=\"40\" stroke=\"black\" fill=\"white\" stroke-width=\"1\" /><text x=\"8097.402968750007\" y=\"375.0\" dominant-baseline=\"middle\" text-anchor=\"middle\" font-size=\"14px\" font-family=\"Arial\">YY^x7</text><rect x=\"8069.973710937507\" y=\"5.0\" width=\"54.85851562500001\" height=\"40\" stroke=\"black\" fill=\"white\" stroke-width=\"1\" /><text x=\"8097.402968750007\" y=\"25.0\" dominant-baseline=\"middle\" text-anchor=\"middle\" font-size=\"14px\" font-family=\"Arial\">YY</text><rect x=\"8144.8322265625075\" y=\"355.0\" width=\"56.72882812500001\" height=\"40\" stroke=\"black\" fill=\"white\" stroke-width=\"1\" /><text x=\"8173.196640625008\" y=\"375.0\" dominant-baseline=\"middle\" text-anchor=\"middle\" font-size=\"14px\" font-family=\"Arial\">XX^x8</text><rect x=\"8144.8322265625075\" y=\"5.0\" width=\"56.72882812500001\" height=\"40\" stroke=\"black\" fill=\"white\" stroke-width=\"1\" /><text x=\"8173.196640625008\" y=\"25.0\" dominant-baseline=\"middle\" text-anchor=\"middle\" font-size=\"14px\" font-family=\"Arial\">XX</text><rect x=\"8221.561054687507\" y=\"355.0\" width=\"47.1117578125\" height=\"40\" stroke=\"black\" fill=\"white\" stroke-width=\"1\" /><text x=\"8245.116933593757\" y=\"375.0\" dominant-baseline=\"middle\" text-anchor=\"middle\" font-size=\"14px\" font-family=\"Arial\">X^x9</text><rect x=\"8288.672812500006\" y=\"355.0\" width=\"55.48085937500001\" height=\"40\" stroke=\"black\" fill=\"white\" stroke-width=\"1\" /><text x=\"8316.413242187506\" y=\"375.0\" dominant-baseline=\"middle\" text-anchor=\"middle\" font-size=\"14px\" font-family=\"Arial\">Y^x10</text><rect x=\"8364.153671875007\" y=\"355.0\" width=\"55.49835937500001\" height=\"40\" stroke=\"black\" fill=\"white\" stroke-width=\"1\" /><text x=\"8391.902851562507\" y=\"375.0\" dominant-baseline=\"middle\" text-anchor=\"middle\" font-size=\"14px\" font-family=\"Arial\">Z^x11</text><rect x=\"8439.652031250007\" y=\"5.0\" width=\"55.601171875000006\" height=\"40\" stroke=\"black\" fill=\"white\" stroke-width=\"1\" /><text x=\"8467.452617187508\" y=\"25.0\" dominant-baseline=\"middle\" text-anchor=\"middle\" font-size=\"14px\" font-family=\"Arial\">X^x12</text><rect x=\"8515.253203125007\" y=\"5.0\" width=\"55.288359375\" height=\"40\" stroke=\"black\" fill=\"white\" stroke-width=\"1\" /><text x=\"8542.897382812507\" y=\"25.0\" dominant-baseline=\"middle\" text-anchor=\"middle\" font-size=\"14px\" font-family=\"Arial\">Y^x13</text><rect x=\"8590.541562500006\" y=\"5.0\" width=\"56.005859375\" height=\"40\" stroke=\"black\" fill=\"white\" stroke-width=\"1\" /><text x=\"8618.544492187506\" y=\"25.0\" dominant-baseline=\"middle\" text-anchor=\"middle\" font-size=\"14px\" font-family=\"Arial\">Z^x14</text></svg>"
      ],
      "text/plain": [
       "<cirq.contrib.svg.svg.SVGCircuit at 0x7feec80da048>"
      ]
     },
     "execution_count": 17,
     "metadata": {},
     "output_type": "execute_result"
    }
   ],
   "source": [
    "SVGCircuit(\n",
    "    quantum_conv_circuit(cirq.GridQubit.rect(1, 8), sympy.symbols('x0:15')))"
   ]
  },
  {
   "cell_type": "markdown",
   "metadata": {
    "colab_type": "text",
    "id": "3svBAfap4xhP"
   },
   "source": [
    "##### 1.5.2.2 Quantum pooling\n",
    "\n",
    "A quantum pooling layer pools from $N$ qubits to $\\frac{N}{2}$ qubits using the two-qubit pool defined above."
   ]
  },
  {
   "cell_type": "code",
   "execution_count": 18,
   "metadata": {
    "colab": {},
    "colab_type": "code",
    "execution": {
     "iopub.execute_input": "2020-10-07T11:11:46.204754Z",
     "iopub.status.busy": "2020-10-07T11:11:46.204202Z",
     "iopub.status.idle": "2020-10-07T11:11:46.205969Z",
     "shell.execute_reply": "2020-10-07T11:11:46.206321Z"
    },
    "id": "jD3fgcWO4yEU"
   },
   "outputs": [],
   "source": [
    "def quantum_pool_circuit(source_bits, sink_bits, symbols):\n",
    "    \"\"\"A layer that specifies a quantum pooling operation.\n",
    "    A Quantum pool tries to learn to pool the relevant information from two\n",
    "    qubits onto 1.\n",
    "    \"\"\"\n",
    "    circuit = cirq.Circuit()\n",
    "    for source, sink in zip(source_bits, sink_bits):\n",
    "        circuit += two_qubit_pool(source, sink, symbols)\n",
    "    return circuit"
   ]
  },
  {
   "cell_type": "markdown",
   "metadata": {
    "colab_type": "text",
    "id": "NX83NHDP_Q_Z"
   },
   "source": [
    "Examine a pooling component circuit:"
   ]
  },
  {
   "cell_type": "code",
   "execution_count": 19,
   "metadata": {
    "colab": {},
    "colab_type": "code",
    "execution": {
     "iopub.execute_input": "2020-10-07T11:11:46.217357Z",
     "iopub.status.busy": "2020-10-07T11:11:46.216782Z",
     "iopub.status.idle": "2020-10-07T11:11:46.614283Z",
     "shell.execute_reply": "2020-10-07T11:11:46.614627Z"
    },
    "id": "pFXow2OX47O5"
   },
   "outputs": [
    {
     "data": {
      "image/svg+xml": [
       "<svg xmlns=\"http://www.w3.org/2000/svg\" width=\"2941.5680468749997\" height=\"400.0\"><line x1=\"34.7588671875\" x2=\"2911.5680468749997\" y1=\"25.0\" y2=\"25.0\" stroke=\"#1967d2\" stroke-width=\"1\" /><line x1=\"34.7588671875\" x2=\"2911.5680468749997\" y1=\"75.0\" y2=\"75.0\" stroke=\"#1967d2\" stroke-width=\"1\" /><line x1=\"34.7588671875\" x2=\"2911.5680468749997\" y1=\"125.0\" y2=\"125.0\" stroke=\"#1967d2\" stroke-width=\"1\" /><line x1=\"34.7588671875\" x2=\"2911.5680468749997\" y1=\"175.0\" y2=\"175.0\" stroke=\"#1967d2\" stroke-width=\"1\" /><line x1=\"34.7588671875\" x2=\"2911.5680468749997\" y1=\"225.0\" y2=\"225.0\" stroke=\"#1967d2\" stroke-width=\"1\" /><line x1=\"34.7588671875\" x2=\"2911.5680468749997\" y1=\"275.0\" y2=\"275.0\" stroke=\"#1967d2\" stroke-width=\"1\" /><line x1=\"34.7588671875\" x2=\"2911.5680468749997\" y1=\"325.0\" y2=\"325.0\" stroke=\"#1967d2\" stroke-width=\"1\" /><line x1=\"34.7588671875\" x2=\"2911.5680468749997\" y1=\"375.0\" y2=\"375.0\" stroke=\"#1967d2\" stroke-width=\"1\" /><line x1=\"499.72953125\" x2=\"499.72953125\" y1=\"25.0\" y2=\"225.0\" stroke=\"black\" stroke-width=\"3\" /><line x1=\"1207.7421093750002\" x2=\"1207.7421093750002\" y1=\"75.0\" y2=\"275.0\" stroke=\"black\" stroke-width=\"3\" /><line x1=\"1915.7546875\" x2=\"1915.7546875\" y1=\"125.0\" y2=\"325.0\" stroke=\"black\" stroke-width=\"3\" /><line x1=\"2623.7672656249997\" x2=\"2623.7672656249997\" y1=\"175.0\" y2=\"375.0\" stroke=\"black\" stroke-width=\"3\" /><rect x=\"10.0\" y=\"5.0\" width=\"49.517734375\" height=\"40\" stroke=\"black\" fill=\"white\" stroke-width=\"0\" /><text x=\"34.7588671875\" y=\"25.0\" dominant-baseline=\"middle\" text-anchor=\"middle\" font-size=\"14px\" font-family=\"Arial\">(0, 0): </text><rect x=\"10.0\" y=\"55.0\" width=\"49.517734375\" height=\"40\" stroke=\"black\" fill=\"white\" stroke-width=\"0\" /><text x=\"34.7588671875\" y=\"75.0\" dominant-baseline=\"middle\" text-anchor=\"middle\" font-size=\"14px\" font-family=\"Arial\">(0, 1): </text><rect x=\"10.0\" y=\"105.0\" width=\"49.517734375\" height=\"40\" stroke=\"black\" fill=\"white\" stroke-width=\"0\" /><text x=\"34.7588671875\" y=\"125.0\" dominant-baseline=\"middle\" text-anchor=\"middle\" font-size=\"14px\" font-family=\"Arial\">(0, 2): </text><rect x=\"10.0\" y=\"155.0\" width=\"49.517734375\" height=\"40\" stroke=\"black\" fill=\"white\" stroke-width=\"0\" /><text x=\"34.7588671875\" y=\"175.0\" dominant-baseline=\"middle\" text-anchor=\"middle\" font-size=\"14px\" font-family=\"Arial\">(0, 3): </text><rect x=\"10.0\" y=\"205.0\" width=\"49.517734375\" height=\"40\" stroke=\"black\" fill=\"white\" stroke-width=\"0\" /><text x=\"34.7588671875\" y=\"225.0\" dominant-baseline=\"middle\" text-anchor=\"middle\" font-size=\"14px\" font-family=\"Arial\">(0, 4): </text><rect x=\"10.0\" y=\"255.0\" width=\"49.517734375\" height=\"40\" stroke=\"black\" fill=\"white\" stroke-width=\"0\" /><text x=\"34.7588671875\" y=\"275.0\" dominant-baseline=\"middle\" text-anchor=\"middle\" font-size=\"14px\" font-family=\"Arial\">(0, 5): </text><rect x=\"10.0\" y=\"305.0\" width=\"49.517734375\" height=\"40\" stroke=\"black\" fill=\"white\" stroke-width=\"0\" /><text x=\"34.7588671875\" y=\"325.0\" dominant-baseline=\"middle\" text-anchor=\"middle\" font-size=\"14px\" font-family=\"Arial\">(0, 6): </text><rect x=\"10.0\" y=\"355.0\" width=\"49.517734375\" height=\"40\" stroke=\"black\" fill=\"white\" stroke-width=\"0\" /><text x=\"34.7588671875\" y=\"375.0\" dominant-baseline=\"middle\" text-anchor=\"middle\" font-size=\"14px\" font-family=\"Arial\">(0, 7): </text><rect x=\"79.517734375\" y=\"205.0\" width=\"47.1664453125\" height=\"40\" stroke=\"black\" fill=\"white\" stroke-width=\"1\" /><text x=\"103.10095703125\" y=\"225.0\" dominant-baseline=\"middle\" text-anchor=\"middle\" font-size=\"14px\" font-family=\"Arial\">X^x0</text><rect x=\"146.6841796875\" y=\"205.0\" width=\"46.2105078125\" height=\"40\" stroke=\"black\" fill=\"white\" stroke-width=\"1\" /><text x=\"169.78943359375\" y=\"225.0\" dominant-baseline=\"middle\" text-anchor=\"middle\" font-size=\"14px\" font-family=\"Arial\">Y^x1</text><rect x=\"212.8946875\" y=\"205.0\" width=\"46.48175781250001\" height=\"40\" stroke=\"black\" fill=\"white\" stroke-width=\"1\" /><text x=\"236.13556640625\" y=\"225.0\" dominant-baseline=\"middle\" text-anchor=\"middle\" font-size=\"14px\" font-family=\"Arial\">Z^x2</text><rect x=\"279.3764453125\" y=\"5.0\" width=\"46.97394531250001\" height=\"40\" stroke=\"black\" fill=\"white\" stroke-width=\"1\" /><text x=\"302.86341796875\" y=\"25.0\" dominant-baseline=\"middle\" text-anchor=\"middle\" font-size=\"14px\" font-family=\"Arial\">X^x3</text><rect x=\"346.350390625\" y=\"5.0\" width=\"46.718007812500005\" height=\"40\" stroke=\"black\" fill=\"white\" stroke-width=\"1\" /><text x=\"369.70939453125\" y=\"25.0\" dominant-baseline=\"middle\" text-anchor=\"middle\" font-size=\"14px\" font-family=\"Arial\">Y^x4</text><rect x=\"413.0683984375\" y=\"5.0\" width=\"46.6611328125\" height=\"40\" stroke=\"black\" fill=\"white\" stroke-width=\"1\" /><text x=\"436.39896484375\" y=\"25.0\" dominant-baseline=\"middle\" text-anchor=\"middle\" font-size=\"14px\" font-family=\"Arial\">Z^x5</text><circle cx=\"499.72953125\" cy=\"25.0\" r=\"10.0\" /><rect x=\"479.72953125\" y=\"205.0\" width=\"40\" height=\"40\" stroke=\"black\" fill=\"white\" stroke-width=\"1\" /><text x=\"499.72953125\" y=\"225.0\" dominant-baseline=\"middle\" text-anchor=\"middle\" font-size=\"18px\" font-family=\"Arial\">X</text><rect x=\"539.72953125\" y=\"205.0\" width=\"62.65640625\" height=\"40\" stroke=\"black\" fill=\"white\" stroke-width=\"1\" /><text x=\"571.057734375\" y=\"225.0\" dominant-baseline=\"middle\" text-anchor=\"middle\" font-size=\"14px\" font-family=\"Arial\">Z^(-x2)</text><rect x=\"622.3859375000001\" y=\"205.0\" width=\"62.27578125000001\" height=\"40\" stroke=\"black\" fill=\"white\" stroke-width=\"1\" /><text x=\"653.523828125\" y=\"225.0\" dominant-baseline=\"middle\" text-anchor=\"middle\" font-size=\"14px\" font-family=\"Arial\">Y^(-x1)</text><rect x=\"704.6617187500001\" y=\"205.0\" width=\"62.86859375\" height=\"40\" stroke=\"black\" fill=\"white\" stroke-width=\"1\" /><text x=\"736.0960156250001\" y=\"225.0\" dominant-baseline=\"middle\" text-anchor=\"middle\" font-size=\"14px\" font-family=\"Arial\">X^(-x0)</text><rect x=\"787.5303125\" y=\"255.0\" width=\"47.1664453125\" height=\"40\" stroke=\"black\" fill=\"white\" stroke-width=\"1\" /><text x=\"811.11353515625\" y=\"275.0\" dominant-baseline=\"middle\" text-anchor=\"middle\" font-size=\"14px\" font-family=\"Arial\">X^x0</text><rect x=\"854.6967578125\" y=\"255.0\" width=\"46.2105078125\" height=\"40\" stroke=\"black\" fill=\"white\" stroke-width=\"1\" /><text x=\"877.80201171875\" y=\"275.0\" dominant-baseline=\"middle\" text-anchor=\"middle\" font-size=\"14px\" font-family=\"Arial\">Y^x1</text><rect x=\"920.907265625\" y=\"255.0\" width=\"46.48175781250001\" height=\"40\" stroke=\"black\" fill=\"white\" stroke-width=\"1\" /><text x=\"944.1481445312501\" y=\"275.0\" dominant-baseline=\"middle\" text-anchor=\"middle\" font-size=\"14px\" font-family=\"Arial\">Z^x2</text><rect x=\"987.3890234375001\" y=\"55.0\" width=\"46.97394531250001\" height=\"40\" stroke=\"black\" fill=\"white\" stroke-width=\"1\" /><text x=\"1010.8759960937501\" y=\"75.0\" dominant-baseline=\"middle\" text-anchor=\"middle\" font-size=\"14px\" font-family=\"Arial\">X^x3</text><rect x=\"1054.3629687500002\" y=\"55.0\" width=\"46.718007812500005\" height=\"40\" stroke=\"black\" fill=\"white\" stroke-width=\"1\" /><text x=\"1077.7219726562503\" y=\"75.0\" dominant-baseline=\"middle\" text-anchor=\"middle\" font-size=\"14px\" font-family=\"Arial\">Y^x4</text><rect x=\"1121.0809765625002\" y=\"55.0\" width=\"46.6611328125\" height=\"40\" stroke=\"black\" fill=\"white\" stroke-width=\"1\" /><text x=\"1144.4115429687502\" y=\"75.0\" dominant-baseline=\"middle\" text-anchor=\"middle\" font-size=\"14px\" font-family=\"Arial\">Z^x5</text><circle cx=\"1207.7421093750002\" cy=\"75.0\" r=\"10.0\" /><rect x=\"1187.7421093750002\" y=\"255.0\" width=\"40\" height=\"40\" stroke=\"black\" fill=\"white\" stroke-width=\"1\" /><text x=\"1207.7421093750002\" y=\"275.0\" dominant-baseline=\"middle\" text-anchor=\"middle\" font-size=\"18px\" font-family=\"Arial\">X</text><rect x=\"1247.7421093750002\" y=\"255.0\" width=\"62.65640625\" height=\"40\" stroke=\"black\" fill=\"white\" stroke-width=\"1\" /><text x=\"1279.0703125000002\" y=\"275.0\" dominant-baseline=\"middle\" text-anchor=\"middle\" font-size=\"14px\" font-family=\"Arial\">Z^(-x2)</text><rect x=\"1330.398515625\" y=\"255.0\" width=\"62.27578125000001\" height=\"40\" stroke=\"black\" fill=\"white\" stroke-width=\"1\" /><text x=\"1361.53640625\" y=\"275.0\" dominant-baseline=\"middle\" text-anchor=\"middle\" font-size=\"14px\" font-family=\"Arial\">Y^(-x1)</text><rect x=\"1412.674296875\" y=\"255.0\" width=\"62.86859375\" height=\"40\" stroke=\"black\" fill=\"white\" stroke-width=\"1\" /><text x=\"1444.10859375\" y=\"275.0\" dominant-baseline=\"middle\" text-anchor=\"middle\" font-size=\"14px\" font-family=\"Arial\">X^(-x0)</text><rect x=\"1495.542890625\" y=\"305.0\" width=\"47.1664453125\" height=\"40\" stroke=\"black\" fill=\"white\" stroke-width=\"1\" /><text x=\"1519.12611328125\" y=\"325.0\" dominant-baseline=\"middle\" text-anchor=\"middle\" font-size=\"14px\" font-family=\"Arial\">X^x0</text><rect x=\"1562.7093359374999\" y=\"305.0\" width=\"46.2105078125\" height=\"40\" stroke=\"black\" fill=\"white\" stroke-width=\"1\" /><text x=\"1585.81458984375\" y=\"325.0\" dominant-baseline=\"middle\" text-anchor=\"middle\" font-size=\"14px\" font-family=\"Arial\">Y^x1</text><rect x=\"1628.91984375\" y=\"305.0\" width=\"46.48175781250001\" height=\"40\" stroke=\"black\" fill=\"white\" stroke-width=\"1\" /><text x=\"1652.1607226562498\" y=\"325.0\" dominant-baseline=\"middle\" text-anchor=\"middle\" font-size=\"14px\" font-family=\"Arial\">Z^x2</text><rect x=\"1695.4016015625\" y=\"105.0\" width=\"46.97394531250001\" height=\"40\" stroke=\"black\" fill=\"white\" stroke-width=\"1\" /><text x=\"1718.88857421875\" y=\"125.0\" dominant-baseline=\"middle\" text-anchor=\"middle\" font-size=\"14px\" font-family=\"Arial\">X^x3</text><rect x=\"1762.375546875\" y=\"105.0\" width=\"46.718007812500005\" height=\"40\" stroke=\"black\" fill=\"white\" stroke-width=\"1\" /><text x=\"1785.7345507812502\" y=\"125.0\" dominant-baseline=\"middle\" text-anchor=\"middle\" font-size=\"14px\" font-family=\"Arial\">Y^x4</text><rect x=\"1829.0935546875\" y=\"105.0\" width=\"46.6611328125\" height=\"40\" stroke=\"black\" fill=\"white\" stroke-width=\"1\" /><text x=\"1852.42412109375\" y=\"125.0\" dominant-baseline=\"middle\" text-anchor=\"middle\" font-size=\"14px\" font-family=\"Arial\">Z^x5</text><circle cx=\"1915.7546875\" cy=\"125.0\" r=\"10.0\" /><rect x=\"1895.7546875\" y=\"305.0\" width=\"40\" height=\"40\" stroke=\"black\" fill=\"white\" stroke-width=\"1\" /><text x=\"1915.7546875\" y=\"325.0\" dominant-baseline=\"middle\" text-anchor=\"middle\" font-size=\"18px\" font-family=\"Arial\">X</text><rect x=\"1955.7546875\" y=\"305.0\" width=\"62.65640625\" height=\"40\" stroke=\"black\" fill=\"white\" stroke-width=\"1\" /><text x=\"1987.0828906250001\" y=\"325.0\" dominant-baseline=\"middle\" text-anchor=\"middle\" font-size=\"14px\" font-family=\"Arial\">Z^(-x2)</text><rect x=\"2038.4110937500002\" y=\"305.0\" width=\"62.27578125000001\" height=\"40\" stroke=\"black\" fill=\"white\" stroke-width=\"1\" /><text x=\"2069.548984375\" y=\"325.0\" dominant-baseline=\"middle\" text-anchor=\"middle\" font-size=\"14px\" font-family=\"Arial\">Y^(-x1)</text><rect x=\"2120.686875\" y=\"305.0\" width=\"62.86859375\" height=\"40\" stroke=\"black\" fill=\"white\" stroke-width=\"1\" /><text x=\"2152.121171875\" y=\"325.0\" dominant-baseline=\"middle\" text-anchor=\"middle\" font-size=\"14px\" font-family=\"Arial\">X^(-x0)</text><rect x=\"2203.55546875\" y=\"355.0\" width=\"47.1664453125\" height=\"40\" stroke=\"black\" fill=\"white\" stroke-width=\"1\" /><text x=\"2227.13869140625\" y=\"375.0\" dominant-baseline=\"middle\" text-anchor=\"middle\" font-size=\"14px\" font-family=\"Arial\">X^x0</text><rect x=\"2270.7219140624998\" y=\"355.0\" width=\"46.2105078125\" height=\"40\" stroke=\"black\" fill=\"white\" stroke-width=\"1\" /><text x=\"2293.8271679687496\" y=\"375.0\" dominant-baseline=\"middle\" text-anchor=\"middle\" font-size=\"14px\" font-family=\"Arial\">Y^x1</text><rect x=\"2336.932421875\" y=\"355.0\" width=\"46.48175781250001\" height=\"40\" stroke=\"black\" fill=\"white\" stroke-width=\"1\" /><text x=\"2360.17330078125\" y=\"375.0\" dominant-baseline=\"middle\" text-anchor=\"middle\" font-size=\"14px\" font-family=\"Arial\">Z^x2</text><rect x=\"2403.4141796874997\" y=\"155.0\" width=\"46.97394531250001\" height=\"40\" stroke=\"black\" fill=\"white\" stroke-width=\"1\" /><text x=\"2426.90115234375\" y=\"175.0\" dominant-baseline=\"middle\" text-anchor=\"middle\" font-size=\"14px\" font-family=\"Arial\">X^x3</text><rect x=\"2470.3881249999995\" y=\"155.0\" width=\"46.718007812500005\" height=\"40\" stroke=\"black\" fill=\"white\" stroke-width=\"1\" /><text x=\"2493.7471289062496\" y=\"175.0\" dominant-baseline=\"middle\" text-anchor=\"middle\" font-size=\"14px\" font-family=\"Arial\">Y^x4</text><rect x=\"2537.1061328124997\" y=\"155.0\" width=\"46.6611328125\" height=\"40\" stroke=\"black\" fill=\"white\" stroke-width=\"1\" /><text x=\"2560.4366992187497\" y=\"175.0\" dominant-baseline=\"middle\" text-anchor=\"middle\" font-size=\"14px\" font-family=\"Arial\">Z^x5</text><circle cx=\"2623.7672656249997\" cy=\"175.0\" r=\"10.0\" /><rect x=\"2603.7672656249997\" y=\"355.0\" width=\"40\" height=\"40\" stroke=\"black\" fill=\"white\" stroke-width=\"1\" /><text x=\"2623.7672656249997\" y=\"375.0\" dominant-baseline=\"middle\" text-anchor=\"middle\" font-size=\"18px\" font-family=\"Arial\">X</text><rect x=\"2663.7672656249997\" y=\"355.0\" width=\"62.65640625\" height=\"40\" stroke=\"black\" fill=\"white\" stroke-width=\"1\" /><text x=\"2695.09546875\" y=\"375.0\" dominant-baseline=\"middle\" text-anchor=\"middle\" font-size=\"14px\" font-family=\"Arial\">Z^(-x2)</text><rect x=\"2746.423671875\" y=\"355.0\" width=\"62.27578125000001\" height=\"40\" stroke=\"black\" fill=\"white\" stroke-width=\"1\" /><text x=\"2777.5615625\" y=\"375.0\" dominant-baseline=\"middle\" text-anchor=\"middle\" font-size=\"14px\" font-family=\"Arial\">Y^(-x1)</text><rect x=\"2828.6994531249998\" y=\"355.0\" width=\"62.86859375\" height=\"40\" stroke=\"black\" fill=\"white\" stroke-width=\"1\" /><text x=\"2860.13375\" y=\"375.0\" dominant-baseline=\"middle\" text-anchor=\"middle\" font-size=\"14px\" font-family=\"Arial\">X^(-x0)</text></svg>"
      ],
      "text/plain": [
       "<cirq.contrib.svg.svg.SVGCircuit at 0x7feec8046b00>"
      ]
     },
     "execution_count": 19,
     "metadata": {},
     "output_type": "execute_result"
    }
   ],
   "source": [
    "test_bits = cirq.GridQubit.rect(1, 8)\n",
    "\n",
    "SVGCircuit(\n",
    "    quantum_pool_circuit(test_bits[:4], test_bits[4:], sympy.symbols('x0:6')))"
   ]
  },
  {
   "cell_type": "markdown",
   "metadata": {
    "colab_type": "text",
    "id": "23VcPLT45Lg7"
   },
   "source": [
    "### 1.6 Model definition\n",
    "\n",
    "Now use the defined layers to construct a purely quantum CNN. Start with eight qubits, pool down to one, then measure $\\langle \\hat{Z} \\rangle$."
   ]
  },
  {
   "cell_type": "code",
   "execution_count": 20,
   "metadata": {
    "colab": {},
    "colab_type": "code",
    "execution": {
     "iopub.execute_input": "2020-10-07T11:11:46.623818Z",
     "iopub.status.busy": "2020-10-07T11:11:46.623219Z",
     "iopub.status.idle": "2020-10-07T11:11:47.616699Z",
     "shell.execute_reply": "2020-10-07T11:11:47.616187Z"
    },
    "id": "vzEsY6-n5NR0"
   },
   "outputs": [
    {
     "name": "stdout",
     "output_type": "stream",
     "text": [
      "('Failed to import pydot. You must `pip install pydot` and install graphviz (https://graphviz.gitlab.io/download/), ', 'for `pydotprint` to work.')\n"
     ]
    }
   ],
   "source": [
    "def create_model_circuit(qubits):\n",
    "    \"\"\"Create sequence of alternating convolution and pooling operators \n",
    "    which gradually shrink over time.\"\"\"\n",
    "    model_circuit = cirq.Circuit()\n",
    "    symbols = sympy.symbols('qconv0:63')\n",
    "    # Cirq uses sympy.Symbols to map learnable variables. TensorFlow Quantum\n",
    "    # scans incoming circuits and replaces these with TensorFlow variables.\n",
    "    model_circuit += quantum_conv_circuit(qubits, symbols[0:15])\n",
    "    model_circuit += quantum_pool_circuit(qubits[:4], qubits[4:],\n",
    "                                          symbols[15:21])\n",
    "    model_circuit += quantum_conv_circuit(qubits[4:], symbols[21:36])\n",
    "    model_circuit += quantum_pool_circuit(qubits[4:6], qubits[6:],\n",
    "                                          symbols[36:42])\n",
    "    model_circuit += quantum_conv_circuit(qubits[6:], symbols[42:57])\n",
    "    model_circuit += quantum_pool_circuit([qubits[6]], [qubits[7]],\n",
    "                                          symbols[57:63])\n",
    "    return model_circuit\n",
    "\n",
    "\n",
    "# Create our qubits and readout operators in Cirq.\n",
    "cluster_state_bits = cirq.GridQubit.rect(1, 8)\n",
    "readout_operators = cirq.Z(cluster_state_bits[-1])\n",
    "\n",
    "# Build a sequential model enacting the logic in 1.3 of this notebook.\n",
    "# Here you are making the static cluster state prep as a part of the AddCircuit and the\n",
    "# \"quantum datapoints\" are coming in the form of excitation\n",
    "excitation_input = tf.keras.Input(shape=(), dtype=tf.dtypes.string)\n",
    "cluster_state = tfq.layers.AddCircuit()(\n",
    "    excitation_input, prepend=cluster_state_circuit(cluster_state_bits))\n",
    "\n",
    "quantum_model = tfq.layers.PQC(create_model_circuit(cluster_state_bits),\n",
    "                               readout_operators)(cluster_state)\n",
    "\n",
    "qcnn_model = tf.keras.Model(inputs=[excitation_input], outputs=[quantum_model])\n",
    "\n",
    "# Show the keras plot of the model\n",
    "tf.keras.utils.plot_model(qcnn_model,\n",
    "                          show_shapes=True,\n",
    "                          show_layer_names=False,\n",
    "                          dpi=70)"
   ]
  },
  {
   "cell_type": "markdown",
   "metadata": {
    "colab_type": "text",
    "id": "9jqTEe5VSbug"
   },
   "source": [
    "### 1.7 Train the model\n",
    "\n",
    "Train the model over the full batch to simplify this example."
   ]
  },
  {
   "cell_type": "code",
   "execution_count": 21,
   "metadata": {
    "colab": {},
    "colab_type": "code",
    "execution": {
     "iopub.execute_input": "2020-10-07T11:11:47.635201Z",
     "iopub.status.busy": "2020-10-07T11:11:47.629999Z",
     "iopub.status.idle": "2020-10-07T11:12:03.872247Z",
     "shell.execute_reply": "2020-10-07T11:12:03.871683Z"
    },
    "id": "_TFkAm1sQZEN"
   },
   "outputs": [
    {
     "name": "stdout",
     "output_type": "stream",
     "text": [
      "Epoch 1/25\n",
      "7/7 [==============================] - 1s 95ms/step - loss: 0.9127 - custom_accuracy: 0.6339 - val_loss: 0.8848 - val_custom_accuracy: 0.7292\n",
      "Epoch 2/25\n",
      "7/7 [==============================] - 1s 80ms/step - loss: 0.7955 - custom_accuracy: 0.7321 - val_loss: 0.8335 - val_custom_accuracy: 0.6667\n",
      "Epoch 3/25\n",
      "7/7 [==============================] - 1s 79ms/step - loss: 0.7328 - custom_accuracy: 0.7143 - val_loss: 0.8005 - val_custom_accuracy: 0.7292\n",
      "Epoch 4/25\n",
      "7/7 [==============================] - 1s 76ms/step - loss: 0.7000 - custom_accuracy: 0.7768 - val_loss: 0.7475 - val_custom_accuracy: 0.7708\n",
      "Epoch 5/25\n",
      "7/7 [==============================] - 1s 74ms/step - loss: 0.6706 - custom_accuracy: 0.7411 - val_loss: 0.7499 - val_custom_accuracy: 0.7292\n",
      "Epoch 6/25\n",
      "7/7 [==============================] - 1s 76ms/step - loss: 0.6500 - custom_accuracy: 0.7679 - val_loss: 0.7247 - val_custom_accuracy: 0.7500\n",
      "Epoch 7/25\n",
      "7/7 [==============================] - 1s 74ms/step - loss: 0.6248 - custom_accuracy: 0.8214 - val_loss: 0.7076 - val_custom_accuracy: 0.7500\n",
      "Epoch 8/25\n",
      "7/7 [==============================] - 1s 74ms/step - loss: 0.6243 - custom_accuracy: 0.8125 - val_loss: 0.6979 - val_custom_accuracy: 0.7917\n",
      "Epoch 9/25\n",
      "7/7 [==============================] - 1s 74ms/step - loss: 0.6134 - custom_accuracy: 0.8393 - val_loss: 0.6795 - val_custom_accuracy: 0.7917\n",
      "Epoch 10/25\n",
      "7/7 [==============================] - 1s 75ms/step - loss: 0.5870 - custom_accuracy: 0.8482 - val_loss: 0.6540 - val_custom_accuracy: 0.7708\n",
      "Epoch 11/25\n",
      "7/7 [==============================] - 1s 76ms/step - loss: 0.5733 - custom_accuracy: 0.8661 - val_loss: 0.6192 - val_custom_accuracy: 0.8333\n",
      "Epoch 12/25\n",
      "7/7 [==============================] - 1s 76ms/step - loss: 0.5621 - custom_accuracy: 0.8571 - val_loss: 0.5699 - val_custom_accuracy: 0.8542\n",
      "Epoch 13/25\n",
      "7/7 [==============================] - 1s 74ms/step - loss: 0.5253 - custom_accuracy: 0.8214 - val_loss: 0.5575 - val_custom_accuracy: 0.8333\n",
      "Epoch 14/25\n",
      "7/7 [==============================] - 1s 75ms/step - loss: 0.4972 - custom_accuracy: 0.8482 - val_loss: 0.5054 - val_custom_accuracy: 0.8958\n",
      "Epoch 15/25\n",
      "7/7 [==============================] - 1s 74ms/step - loss: 0.4760 - custom_accuracy: 0.8839 - val_loss: 0.4911 - val_custom_accuracy: 0.8750\n",
      "Epoch 16/25\n",
      "7/7 [==============================] - 1s 74ms/step - loss: 0.4510 - custom_accuracy: 0.8750 - val_loss: 0.4431 - val_custom_accuracy: 0.9167\n",
      "Epoch 17/25\n",
      "7/7 [==============================] - 1s 75ms/step - loss: 0.4409 - custom_accuracy: 0.9018 - val_loss: 0.4457 - val_custom_accuracy: 0.8958\n",
      "Epoch 18/25\n",
      "7/7 [==============================] - 1s 75ms/step - loss: 0.4379 - custom_accuracy: 0.8839 - val_loss: 0.4270 - val_custom_accuracy: 0.9583\n",
      "Epoch 19/25\n",
      "7/7 [==============================] - 1s 75ms/step - loss: 0.4065 - custom_accuracy: 0.9464 - val_loss: 0.4169 - val_custom_accuracy: 0.9583\n",
      "Epoch 20/25\n",
      "7/7 [==============================] - 1s 73ms/step - loss: 0.3999 - custom_accuracy: 0.9196 - val_loss: 0.4152 - val_custom_accuracy: 0.9375\n",
      "Epoch 21/25\n",
      "7/7 [==============================] - 1s 75ms/step - loss: 0.4013 - custom_accuracy: 0.9107 - val_loss: 0.3911 - val_custom_accuracy: 0.9583\n",
      "Epoch 22/25\n",
      "7/7 [==============================] - 1s 75ms/step - loss: 0.3779 - custom_accuracy: 0.9643 - val_loss: 0.3877 - val_custom_accuracy: 0.9375\n",
      "Epoch 23/25\n",
      "7/7 [==============================] - 1s 76ms/step - loss: 0.3851 - custom_accuracy: 0.9018 - val_loss: 0.3818 - val_custom_accuracy: 0.9583\n",
      "Epoch 24/25\n",
      "7/7 [==============================] - 1s 75ms/step - loss: 0.3813 - custom_accuracy: 0.9464 - val_loss: 0.4164 - val_custom_accuracy: 0.8958\n",
      "Epoch 25/25\n",
      "7/7 [==============================] - 1s 79ms/step - loss: 0.3703 - custom_accuracy: 0.9286 - val_loss: 0.3654 - val_custom_accuracy: 0.9583\n"
     ]
    }
   ],
   "source": [
    "# Generate some training data.\n",
    "train_excitations, train_labels, test_excitations, test_labels = generate_data(\n",
    "    cluster_state_bits)\n",
    "\n",
    "\n",
    "# Custom accuracy metric.\n",
    "@tf.function\n",
    "def custom_accuracy(y_true, y_pred):\n",
    "    y_true = tf.squeeze(y_true)\n",
    "    y_pred = tf.map_fn(lambda x: 1.0 if x >= 0 else -1.0, y_pred)\n",
    "    return tf.keras.backend.mean(tf.keras.backend.equal(y_true, y_pred))\n",
    "\n",
    "\n",
    "qcnn_model.compile(optimizer=tf.keras.optimizers.Adam(learning_rate=0.02),\n",
    "                   loss=tf.losses.mse,\n",
    "                   metrics=[custom_accuracy])\n",
    "\n",
    "history = qcnn_model.fit(x=train_excitations,\n",
    "                         y=train_labels,\n",
    "                         batch_size=16,\n",
    "                         epochs=25,\n",
    "                         verbose=1,\n",
    "                         validation_data=(test_excitations, test_labels))"
   ]
  },
  {
   "cell_type": "code",
   "execution_count": 22,
   "metadata": {
    "colab": {},
    "colab_type": "code",
    "execution": {
     "iopub.execute_input": "2020-10-07T11:12:03.889860Z",
     "iopub.status.busy": "2020-10-07T11:12:03.889253Z",
     "iopub.status.idle": "2020-10-07T11:12:04.005937Z",
     "shell.execute_reply": "2020-10-07T11:12:04.005438Z"
    },
    "id": "2tiCJOb5Qzcr"
   },
   "outputs": [
    {
     "data": {
      "image/png": "[encoded data removed]",
      "text/plain": [
       "<Figure size 432x288 with 1 Axes>"
      ]
     },
     "metadata": {
      "needs_background": "light"
     },
     "output_type": "display_data"
    }
   ],
   "source": [
    "plt.plot(history.history['loss'][1:], label='Training')\n",
    "plt.plot(history.history['val_loss'][1:], label='Validation')\n",
    "plt.title('Training a Quantum CNN to Detect Excited Cluster States')\n",
    "plt.xlabel('Epochs')\n",
    "plt.ylabel('Loss')\n",
    "plt.legend()\n",
    "plt.show()"
   ]
  },
  {
   "cell_type": "markdown",
   "metadata": {
    "colab_type": "text",
    "id": "GyrkcEReQ5Bc"
   },
   "source": [
    "## 2. Hybrid models\n",
    "\n",
    "You don't have to go from eight qubits to one qubit using quantum convolution—you could have done one or two rounds of quantum convolution and fed the results into a classical neural network. This section explores quantum-classical hybrid models."
   ]
  },
  {
   "cell_type": "markdown",
   "metadata": {
    "colab_type": "text",
    "id": "A2tOK22t7Kjm"
   },
   "source": [
    "### 2.1 Hybrid model with a single quantum filter\n",
    "\n",
    "Apply one layer of quantum convolution, reading out $\\langle \\hat{Z}_n \\rangle$ on all bits, followed by a densely-connected neural network.\n",
    "\n",
    "<img src=\"./images/qcnn_5.png\" width=\"1000\">"
   ]
  },
  {
   "cell_type": "markdown",
   "metadata": {
    "colab_type": "text",
    "id": "lKXuOApgWYFa"
   },
   "source": [
    "#### 2.1.1 Model definition"
   ]
  },
  {
   "cell_type": "code",
   "execution_count": 23,
   "metadata": {
    "colab": {},
    "colab_type": "code",
    "execution": {
     "iopub.execute_input": "2020-10-07T11:12:04.017867Z",
     "iopub.status.busy": "2020-10-07T11:12:04.017290Z",
     "iopub.status.idle": "2020-10-07T11:12:04.181052Z",
     "shell.execute_reply": "2020-10-07T11:12:04.180608Z"
    },
    "id": "Ut-U1hBkQ8Fs"
   },
   "outputs": [
    {
     "name": "stdout",
     "output_type": "stream",
     "text": [
      "('Failed to import pydot. You must `pip install pydot` and install graphviz (https://graphviz.gitlab.io/download/), ', 'for `pydotprint` to work.')\n"
     ]
    }
   ],
   "source": [
    "# 1-local operators to read out\n",
    "readouts = [cirq.Z(bit) for bit in cluster_state_bits[4:]]\n",
    "\n",
    "\n",
    "def multi_readout_model_circuit(qubits):\n",
    "    \"\"\"Make a model circuit with less quantum pool and conv operations.\"\"\"\n",
    "    model_circuit = cirq.Circuit()\n",
    "    symbols = sympy.symbols('qconv0:21')\n",
    "    model_circuit += quantum_conv_circuit(qubits, symbols[0:15])\n",
    "    model_circuit += quantum_pool_circuit(qubits[:4], qubits[4:],\n",
    "                                          symbols[15:21])\n",
    "    return model_circuit\n",
    "\n",
    "\n",
    "# Build a model enacting the logic in 2.1 of this notebook.\n",
    "excitation_input_dual = tf.keras.Input(shape=(), dtype=tf.dtypes.string)\n",
    "\n",
    "cluster_state_dual = tfq.layers.AddCircuit()(\n",
    "    excitation_input_dual, prepend=cluster_state_circuit(cluster_state_bits))\n",
    "\n",
    "quantum_model_dual = tfq.layers.PQC(\n",
    "    multi_readout_model_circuit(cluster_state_bits),\n",
    "    readouts)(cluster_state_dual)\n",
    "\n",
    "d1_dual = tf.keras.layers.Dense(8)(quantum_model_dual)\n",
    "\n",
    "d2_dual = tf.keras.layers.Dense(1)(d1_dual)\n",
    "\n",
    "hybrid_model = tf.keras.Model(inputs=[excitation_input_dual], outputs=[d2_dual])\n",
    "\n",
    "# Display the model architecture\n",
    "tf.keras.utils.plot_model(hybrid_model,\n",
    "                          show_shapes=True,\n",
    "                          show_layer_names=False,\n",
    "                          dpi=70)"
   ]
  },
  {
   "cell_type": "markdown",
   "metadata": {
    "colab_type": "text",
    "id": "qDqoLZJuWcgH"
   },
   "source": [
    "#### 2.1.2 Train the model"
   ]
  },
  {
   "cell_type": "code",
   "execution_count": 24,
   "metadata": {
    "colab": {},
    "colab_type": "code",
    "execution": {
     "iopub.execute_input": "2020-10-07T11:12:04.191856Z",
     "iopub.status.busy": "2020-10-07T11:12:04.191267Z",
     "iopub.status.idle": "2020-10-07T11:12:14.430825Z",
     "shell.execute_reply": "2020-10-07T11:12:14.430310Z"
    },
    "id": "EyYw9kYIRCE7"
   },
   "outputs": [
    {
     "name": "stdout",
     "output_type": "stream",
     "text": [
      "Epoch 1/25\n",
      "7/7 [==============================] - 0s 56ms/step - loss: 0.8484 - custom_accuracy: 0.5804 - val_loss: 0.7857 - val_custom_accuracy: 0.6875\n",
      "Epoch 2/25\n",
      "7/7 [==============================] - 0s 48ms/step - loss: 0.5130 - custom_accuracy: 0.8929 - val_loss: 0.3178 - val_custom_accuracy: 0.9583\n",
      "Epoch 3/25\n",
      "7/7 [==============================] - 0s 44ms/step - loss: 0.2446 - custom_accuracy: 0.9196 - val_loss: 0.2023 - val_custom_accuracy: 0.9792\n",
      "Epoch 4/25\n",
      "7/7 [==============================] - 0s 44ms/step - loss: 0.1941 - custom_accuracy: 0.9732 - val_loss: 0.1465 - val_custom_accuracy: 1.0000\n",
      "Epoch 5/25\n",
      "7/7 [==============================] - 0s 43ms/step - loss: 0.2042 - custom_accuracy: 0.9464 - val_loss: 0.1739 - val_custom_accuracy: 0.9792\n",
      "Epoch 6/25\n",
      "7/7 [==============================] - 0s 43ms/step - loss: 0.2214 - custom_accuracy: 0.9643 - val_loss: 0.1752 - val_custom_accuracy: 0.9792\n",
      "Epoch 7/25\n",
      "7/7 [==============================] - 0s 44ms/step - loss: 0.2102 - custom_accuracy: 0.9554 - val_loss: 0.2260 - val_custom_accuracy: 0.9792\n",
      "Epoch 8/25\n",
      "7/7 [==============================] - 0s 44ms/step - loss: 0.2056 - custom_accuracy: 0.9732 - val_loss: 0.1614 - val_custom_accuracy: 1.0000\n",
      "Epoch 9/25\n",
      "7/7 [==============================] - 0s 44ms/step - loss: 0.1967 - custom_accuracy: 0.9911 - val_loss: 0.1677 - val_custom_accuracy: 1.0000\n",
      "Epoch 10/25\n",
      "7/7 [==============================] - 0s 44ms/step - loss: 0.2004 - custom_accuracy: 0.9643 - val_loss: 0.2095 - val_custom_accuracy: 0.9583\n",
      "Epoch 11/25\n",
      "7/7 [==============================] - 0s 44ms/step - loss: 0.1841 - custom_accuracy: 0.9732 - val_loss: 0.2249 - val_custom_accuracy: 0.9167\n",
      "Epoch 12/25\n",
      "7/7 [==============================] - 0s 45ms/step - loss: 0.1812 - custom_accuracy: 0.9643 - val_loss: 0.1894 - val_custom_accuracy: 0.9792\n",
      "Epoch 13/25\n",
      "7/7 [==============================] - 0s 44ms/step - loss: 0.1868 - custom_accuracy: 0.9554 - val_loss: 0.1633 - val_custom_accuracy: 0.9792\n",
      "Epoch 14/25\n",
      "7/7 [==============================] - 0s 44ms/step - loss: 0.1774 - custom_accuracy: 0.9821 - val_loss: 0.1808 - val_custom_accuracy: 0.9792\n",
      "Epoch 15/25\n",
      "7/7 [==============================] - 0s 45ms/step - loss: 0.1701 - custom_accuracy: 0.9911 - val_loss: 0.1713 - val_custom_accuracy: 0.9792\n",
      "Epoch 16/25\n",
      "7/7 [==============================] - 0s 44ms/step - loss: 0.1778 - custom_accuracy: 0.9732 - val_loss: 0.1945 - val_custom_accuracy: 0.9792\n",
      "Epoch 17/25\n",
      "7/7 [==============================] - 0s 44ms/step - loss: 0.1782 - custom_accuracy: 0.9732 - val_loss: 0.1844 - val_custom_accuracy: 0.9792\n",
      "Epoch 18/25\n",
      "7/7 [==============================] - 0s 44ms/step - loss: 0.1805 - custom_accuracy: 0.9821 - val_loss: 0.2020 - val_custom_accuracy: 0.9792\n",
      "Epoch 19/25\n",
      "7/7 [==============================] - 0s 44ms/step - loss: 0.1906 - custom_accuracy: 0.9643 - val_loss: 0.1770 - val_custom_accuracy: 1.0000\n",
      "Epoch 20/25\n",
      "7/7 [==============================] - 0s 44ms/step - loss: 0.1722 - custom_accuracy: 0.9732 - val_loss: 0.1863 - val_custom_accuracy: 0.9583\n",
      "Epoch 21/25\n",
      "7/7 [==============================] - 0s 44ms/step - loss: 0.1744 - custom_accuracy: 0.9732 - val_loss: 0.1950 - val_custom_accuracy: 0.9583\n",
      "Epoch 22/25\n",
      "7/7 [==============================] - 0s 44ms/step - loss: 0.1735 - custom_accuracy: 0.9821 - val_loss: 0.1681 - val_custom_accuracy: 1.0000\n",
      "Epoch 23/25\n",
      "7/7 [==============================] - 0s 44ms/step - loss: 0.1709 - custom_accuracy: 0.9732 - val_loss: 0.2208 - val_custom_accuracy: 0.9792\n",
      "Epoch 24/25\n",
      "7/7 [==============================] - 0s 45ms/step - loss: 0.1894 - custom_accuracy: 0.9732 - val_loss: 0.1808 - val_custom_accuracy: 0.9792\n",
      "Epoch 25/25\n",
      "7/7 [==============================] - 0s 44ms/step - loss: 0.1714 - custom_accuracy: 0.9732 - val_loss: 0.1901 - val_custom_accuracy: 0.9583\n"
     ]
    }
   ],
   "source": [
    "hybrid_model.compile(optimizer=tf.keras.optimizers.Adam(learning_rate=0.02),\n",
    "                     loss=tf.losses.mse,\n",
    "                     metrics=[custom_accuracy])\n",
    "\n",
    "hybrid_history = hybrid_model.fit(x=train_excitations,\n",
    "                                  y=train_labels,\n",
    "                                  batch_size=16,\n",
    "                                  epochs=25,\n",
    "                                  verbose=1,\n",
    "                                  validation_data=(test_excitations,\n",
    "                                                   test_labels))"
   ]
  },
  {
   "cell_type": "code",
   "execution_count": 25,
   "metadata": {
    "colab": {},
    "colab_type": "code",
    "execution": {
     "iopub.execute_input": "2020-10-07T11:12:14.447829Z",
     "iopub.status.busy": "2020-10-07T11:12:14.442141Z",
     "iopub.status.idle": "2020-10-07T11:12:14.564887Z",
     "shell.execute_reply": "2020-10-07T11:12:14.565274Z"
    },
    "id": "yL3jhGiBRJHt"
   },
   "outputs": [
    {
     "data": {
      "image/png": "[encoded data removed]",
      "text/plain": [
       "<Figure size 432x288 with 1 Axes>"
      ]
     },
     "metadata": {
      "needs_background": "light"
     },
     "output_type": "display_data"
    }
   ],
   "source": [
    "plt.plot(history.history['val_custom_accuracy'], label='QCNN')\n",
    "plt.plot(hybrid_history.history['val_custom_accuracy'], label='Hybrid CNN')\n",
    "plt.title('Quantum vs Hybrid CNN performance')\n",
    "plt.xlabel('Epochs')\n",
    "plt.legend()\n",
    "plt.ylabel('Validation Accuracy')\n",
    "plt.show()"
   ]
  },
  {
   "cell_type": "markdown",
   "metadata": {
    "colab_type": "text",
    "id": "NCNiNvheRNzq"
   },
   "source": [
    "As you can see, with very modest classical assistance, the hybrid model will usually converge faster than the purely quantum version."
   ]
  },
  {
   "cell_type": "markdown",
   "metadata": {
    "colab_type": "text",
    "id": "nVUtWLZnRRDE"
   },
   "source": [
    "### 2.2 Hybrid convolution with multiple quantum filters\n",
    "\n",
    "Now let's try an architecture that uses multiple quantum convolutions and a classical neural network to combine them.\n",
    "\n",
    "<img src=\"./images/qcnn_6.png\" width=\"1000\">"
   ]
  },
  {
   "cell_type": "markdown",
   "metadata": {
    "colab_type": "text",
    "id": "Ldo_m5P3YBV7"
   },
   "source": [
    "#### 2.2.1 Model definition"
   ]
  },
  {
   "cell_type": "code",
   "execution_count": 29,
   "metadata": {
    "colab": {},
    "colab_type": "code",
    "execution": {
     "iopub.execute_input": "2020-10-07T11:12:14.579713Z",
     "iopub.status.busy": "2020-10-07T11:12:14.576318Z",
     "iopub.status.idle": "2020-10-07T11:12:14.905359Z",
     "shell.execute_reply": "2020-10-07T11:12:14.905736Z"
    },
    "id": "W3TkNVm9RTBj"
   },
   "outputs": [
    {
     "name": "stdout",
     "output_type": "stream",
     "text": [
      "('Failed to import pydot. You must `pip install pydot` and install graphviz (https://graphviz.gitlab.io/download/), ', 'for `pydotprint` to work.')\n"
     ]
    }
   ],
   "source": [
    "excitation_input_multi = tf.keras.Input(shape=(), dtype=tf.dtypes.string)\n",
    "\n",
    "cluster_state_multi = tfq.layers.AddCircuit()(\n",
    "    excitation_input_multi, prepend=cluster_state_circuit(cluster_state_bits))\n",
    "\n",
    "# apply 3 different filters and measure expectation values\n",
    "\n",
    "quantum_model_multi1 = tfq.layers.PQC(\n",
    "    multi_readout_model_circuit(cluster_state_bits),\n",
    "    readouts)(cluster_state_multi)\n",
    "\n",
    "quantum_model_multi2 = tfq.layers.PQC(\n",
    "    multi_readout_model_circuit(cluster_state_bits),\n",
    "    readouts)(cluster_state_multi)\n",
    "\n",
    "quantum_model_multi3 = tfq.layers.PQC(\n",
    "    multi_readout_model_circuit(cluster_state_bits),\n",
    "    readouts)(cluster_state_multi)\n",
    "\n",
    "# concatenate outputs and feed into a small classical NN\n",
    "concat_out = tf.keras.layers.concatenate(\n",
    "    [quantum_model_multi1, quantum_model_multi2, quantum_model_multi3])\n",
    "\n",
    "dense_1 = tf.keras.layers.Dense(8)(concat_out)\n",
    "\n",
    "dense_2 = tf.keras.layers.Dense(1)(dense_1)\n",
    "\n",
    "multi_qconv_model = tf.keras.Model(inputs=[excitation_input_multi],\n",
    "                                   outputs=[dense_2])\n",
    "\n",
    "# Display the model architecture\n",
    "tf.keras.utils.plot_model(multi_qconv_model,\n",
    "                          show_shapes=True,\n",
    "                          show_layer_names=True,\n",
    "                          dpi=70)"
   ]
  },
  {
   "cell_type": "markdown",
   "metadata": {
    "colab_type": "text",
    "id": "2eNhDWwKY9N4"
   },
   "source": [
    "#### 2.2.2 Train the model"
   ]
  },
  {
   "cell_type": "code",
   "execution_count": 27,
   "metadata": {
    "colab": {},
    "colab_type": "code",
    "execution": {
     "iopub.execute_input": "2020-10-07T11:12:14.916895Z",
     "iopub.status.busy": "2020-10-07T11:12:14.916342Z",
     "iopub.status.idle": "2020-10-07T11:12:26.867304Z",
     "shell.execute_reply": "2020-10-07T11:12:26.867698Z"
    },
    "id": "suRvxcAKRZK6"
   },
   "outputs": [
    {
     "name": "stdout",
     "output_type": "stream",
     "text": [
      "Epoch 1/25\n",
      "7/7 [==============================] - 1s 98ms/step - loss: 0.8917 - custom_accuracy: 0.6339 - val_loss: 0.7452 - val_custom_accuracy: 0.7500\n",
      "Epoch 2/25\n",
      "7/7 [==============================] - 1s 83ms/step - loss: 0.5054 - custom_accuracy: 0.8661 - val_loss: 0.3136 - val_custom_accuracy: 0.9375\n",
      "Epoch 3/25\n",
      "7/7 [==============================] - 1s 79ms/step - loss: 0.2426 - custom_accuracy: 0.9554 - val_loss: 0.2494 - val_custom_accuracy: 0.9375\n",
      "Epoch 4/25\n",
      "7/7 [==============================] - 1s 77ms/step - loss: 0.1974 - custom_accuracy: 0.9643 - val_loss: 0.2256 - val_custom_accuracy: 0.8958\n",
      "Epoch 5/25\n",
      "7/7 [==============================] - 1s 83ms/step - loss: 0.2171 - custom_accuracy: 0.9643 - val_loss: 0.1956 - val_custom_accuracy: 0.9375\n",
      "Epoch 6/25\n",
      "7/7 [==============================] - 1s 80ms/step - loss: 0.2003 - custom_accuracy: 0.9464 - val_loss: 0.2217 - val_custom_accuracy: 0.9792\n",
      "Epoch 7/25\n",
      "7/7 [==============================] - 1s 79ms/step - loss: 0.2024 - custom_accuracy: 0.9821 - val_loss: 0.1985 - val_custom_accuracy: 0.9792\n",
      "Epoch 8/25\n",
      "7/7 [==============================] - 1s 78ms/step - loss: 0.1732 - custom_accuracy: 0.9732 - val_loss: 0.1853 - val_custom_accuracy: 0.9792\n",
      "Epoch 9/25\n",
      "7/7 [==============================] - 1s 78ms/step - loss: 0.1798 - custom_accuracy: 0.9821 - val_loss: 0.2969 - val_custom_accuracy: 0.9375\n",
      "Epoch 10/25\n",
      "7/7 [==============================] - 1s 78ms/step - loss: 0.2188 - custom_accuracy: 0.9643 - val_loss: 0.2189 - val_custom_accuracy: 0.9375\n",
      "Epoch 11/25\n",
      "7/7 [==============================] - 1s 83ms/step - loss: 0.1827 - custom_accuracy: 0.9643 - val_loss: 0.1763 - val_custom_accuracy: 0.9792\n",
      "Epoch 12/25\n",
      "7/7 [==============================] - 1s 78ms/step - loss: 0.1824 - custom_accuracy: 0.9732 - val_loss: 0.1872 - val_custom_accuracy: 0.9792\n",
      "Epoch 13/25\n",
      "7/7 [==============================] - 1s 77ms/step - loss: 0.1737 - custom_accuracy: 0.9821 - val_loss: 0.2141 - val_custom_accuracy: 0.9375\n",
      "Epoch 14/25\n",
      "7/7 [==============================] - 1s 80ms/step - loss: 0.1658 - custom_accuracy: 0.9732 - val_loss: 0.2197 - val_custom_accuracy: 0.9375\n",
      "Epoch 15/25\n",
      "7/7 [==============================] - 1s 85ms/step - loss: 0.1836 - custom_accuracy: 0.9643 - val_loss: 0.2708 - val_custom_accuracy: 0.9375\n",
      "Epoch 16/25\n",
      "7/7 [==============================] - 1s 82ms/step - loss: 0.1986 - custom_accuracy: 0.9554 - val_loss: 0.2816 - val_custom_accuracy: 0.9375\n",
      "Epoch 17/25\n",
      "7/7 [==============================] - 1s 75ms/step - loss: 0.3006 - custom_accuracy: 0.9375 - val_loss: 0.2015 - val_custom_accuracy: 0.9792\n",
      "Epoch 18/25\n",
      "7/7 [==============================] - 1s 76ms/step - loss: 0.2247 - custom_accuracy: 0.9732 - val_loss: 0.1963 - val_custom_accuracy: 0.9375\n",
      "Epoch 19/25\n",
      "7/7 [==============================] - 1s 79ms/step - loss: 0.2154 - custom_accuracy: 0.9911 - val_loss: 0.2144 - val_custom_accuracy: 0.9167\n",
      "Epoch 20/25\n",
      "7/7 [==============================] - 1s 81ms/step - loss: 0.1972 - custom_accuracy: 0.9821 - val_loss: 0.1744 - val_custom_accuracy: 0.9792\n",
      "Epoch 21/25\n",
      "7/7 [==============================] - 1s 80ms/step - loss: 0.1786 - custom_accuracy: 0.9643 - val_loss: 0.2118 - val_custom_accuracy: 0.9583\n",
      "Epoch 22/25\n",
      "7/7 [==============================] - 1s 80ms/step - loss: 0.1744 - custom_accuracy: 0.9821 - val_loss: 0.1998 - val_custom_accuracy: 0.9583\n",
      "Epoch 23/25\n",
      "7/7 [==============================] - 1s 82ms/step - loss: 0.1628 - custom_accuracy: 0.9911 - val_loss: 0.1922 - val_custom_accuracy: 0.9792\n",
      "Epoch 24/25\n",
      "7/7 [==============================] - 1s 85ms/step - loss: 0.1634 - custom_accuracy: 0.9643 - val_loss: 0.1992 - val_custom_accuracy: 0.9792\n",
      "Epoch 25/25\n",
      "7/7 [==============================] - 1s 84ms/step - loss: 0.1599 - custom_accuracy: 0.9732 - val_loss: 0.2515 - val_custom_accuracy: 0.9583\n"
     ]
    }
   ],
   "source": [
    "multi_qconv_model.compile(\n",
    "    optimizer=tf.keras.optimizers.Adam(learning_rate=0.02),\n",
    "    loss=tf.losses.mse,\n",
    "    metrics=[custom_accuracy])\n",
    "\n",
    "multi_qconv_history = multi_qconv_model.fit(x=train_excitations,\n",
    "                                            y=train_labels,\n",
    "                                            batch_size=16,\n",
    "                                            epochs=25,\n",
    "                                            verbose=1,\n",
    "                                            validation_data=(test_excitations,\n",
    "                                                             test_labels))"
   ]
  },
  {
   "cell_type": "code",
   "execution_count": 28,
   "metadata": {
    "colab": {},
    "colab_type": "code",
    "execution": {
     "iopub.execute_input": "2020-10-07T11:12:26.886864Z",
     "iopub.status.busy": "2020-10-07T11:12:26.884753Z",
     "iopub.status.idle": "2020-10-07T11:12:27.022395Z",
     "shell.execute_reply": "2020-10-07T11:12:27.022783Z"
    },
    "id": "-6NR7yAQRmOU"
   },
   "outputs": [
    {
     "data": {
      "image/png": "[encoded data removed]",
      "text/plain": [
       "<Figure size 432x288 with 1 Axes>"
      ]
     },
     "metadata": {
      "needs_background": "light"
     },
     "output_type": "display_data"
    }
   ],
   "source": [
    "plt.plot(history.history['val_custom_accuracy'][:25], label='QCNN')\n",
    "plt.plot(hybrid_history.history['val_custom_accuracy'][:25], label='Hybrid CNN')\n",
    "plt.plot(multi_qconv_history.history['val_custom_accuracy'][:25],\n",
    "         label='Hybrid CNN \\n Multiple Quantum Filters')\n",
    "plt.title('Quantum vs Hybrid CNN performance')\n",
    "plt.xlabel('Epochs')\n",
    "plt.legend()\n",
    "plt.ylabel('Validation Accuracy')\n",
    "plt.show()"
   ]
  }
 ],
 "metadata": {
  "colab": {
   "collapsed_sections": [],
   "name": "qcnn.ipynb",
   "private_outputs": true,
   "provenance": [],
   "toc_visible": true
  },
  "kernelspec": {
   "display_name": "Python 3",
   "language": "python",
   "name": "python3"
  },
  "language_info": {
   "codemirror_mode": {
    "name": "ipython",
    "version": 3
   },
   "file_extension": ".py",
   "mimetype": "text/x-python",
   "name": "python",
   "nbconvert_exporter": "python",
   "pygments_lexer": "ipython3",
   "version": "3.6.9"
  }
 },
 "nbformat": 4,
 "nbformat_minor": 1
}
