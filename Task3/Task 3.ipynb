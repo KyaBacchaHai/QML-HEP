{
 "cells": [
  {
   "cell_type": "code",
   "execution_count": 1,
   "metadata": {},
   "outputs": [],
   "source": [
    "import tensorflow as tf\n",
    "import tensorflow_quantum as tfq\n",
    "\n",
    "import cirq\n",
    "import sympy\n",
    "import numpy as np\n",
    "\n",
    "# visualization tools\n",
    "%matplotlib inline\n",
    "import matplotlib.pyplot as plt\n",
    "from cirq.contrib.svg import SVGCircuit"
   ]
  },
  {
   "cell_type": "code",
   "execution_count": 2,
   "metadata": {},
   "outputs": [
    {
     "name": "stdout",
     "output_type": "stream",
     "text": [
      "1.392017\n",
      "1.4274136\n",
      "0.0\n",
      "0.0\n"
     ]
    }
   ],
   "source": [
    "data = np.load('./electron-photon.npz', allow_pickle=True)\n",
    "print(data['x_test'].max())\n",
    "print(data['x_train'].max())\n",
    "print(data['x_test'].min())\n",
    "print(data['x_train'].min())"
   ]
  },
  {
   "cell_type": "code",
   "execution_count": 3,
   "metadata": {},
   "outputs": [],
   "source": [
    "normalized_x_train = data[\"x_train\"]/max(data['x_train'].max(),data['x_test'].max())\n",
    "normalized_x_test = data[\"x_test\"]/max(data['x_train'].max(),data['x_test'].max())"
   ]
  },
  {
   "cell_type": "code",
   "execution_count": 4,
   "metadata": {},
   "outputs": [],
   "source": [
    "def qubit_from_x(input):\n",
    "    qbits = []\n",
    "    for i in range(32):\n",
    "        for j in range(32):\n",
    "            qbits.append(\n",
    "                cirq.Circuit( \n",
    "                    cirq.rx(input[i][j] * np.pi)(cirq.GridQubit(i,j)) \n",
    "                )\n",
    "            )\n",
    "    return tfq.convert_to_tensor(qbits)"
   ]
  },
  {
   "cell_type": "code",
   "execution_count": 5,
   "metadata": {},
   "outputs": [
    {
     "data": {
      "text/html": [
       "<pre style=\"overflow: auto; white-space: pre;\">(31, 8): ───Rx(0)───</pre>"
      ],
      "text/plain": [
       "(31, 8): ───Rx(0)───"
      ]
     },
     "execution_count": 5,
     "metadata": {},
     "output_type": "execute_result"
    }
   ],
   "source": [
    "tfq.from_tensor(qubit_from_x(normalized_x_train[0]))[1000]"
   ]
  },
  {
   "cell_type": "code",
   "execution_count": 6,
   "metadata": {},
   "outputs": [],
   "source": [
    "x_train = [ qubit_from_x(i) for i in normalized_x_train ]\n",
    "x_test = [ qubit_from_x(i) for i in normalized_x_test ]\n",
    "y_train = data['y_train']\n",
    "y_test = data['y_test']"
   ]
  }
 ],
 "metadata": {
  "kernelspec": {
   "display_name": "Python 3",
   "language": "python",
   "name": "python3"
  },
  "language_info": {
   "codemirror_mode": {
    "name": "ipython",
    "version": 3
   },
   "file_extension": ".py",
   "mimetype": "text/x-python",
   "name": "python",
   "nbconvert_exporter": "python",
   "pygments_lexer": "ipython3",
   "version": "3.6.9"
  }
 },
 "nbformat": 4,
 "nbformat_minor": 4
}
