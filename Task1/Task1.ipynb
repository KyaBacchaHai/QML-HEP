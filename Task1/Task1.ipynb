{
 "cells": [
  {
   "cell_type": "code",
   "execution_count": 1,
   "metadata": {},
   "outputs": [
    {
     "name": "stdout",
     "output_type": "stream",
     "text": [
      "Populating the interactive namespace from numpy and matplotlib\n"
     ]
    }
   ],
   "source": [
    "%pylab inline\n",
    "import cirq"
   ]
  },
  {
   "cell_type": "code",
   "execution_count": 2,
   "metadata": {},
   "outputs": [],
   "source": [
    "def Quantum_Operation(input):\n",
    "    operations = []\n",
    "    \n",
    "    # Applying Hadamard operation on every qubit\n",
    "    for i in input:\n",
    "        operations.append( cirq.H(i) )\n",
    "        \n",
    "    # Applying the required CNOT operations.\n",
    "    for i in range(4):\n",
    "        operations.append(cirq.CNOT(input[i], input[i+1]))\n",
    "        \n",
    "    # Swapping (0,4)\n",
    "    operations.append( cirq.SWAP(input[0], input[4]) )\n",
    "    \n",
    "    # Roatating X with pi/2 on a random qubit\n",
    "    operations.append(cirq.rx(numpy.pi/2)\n",
    "                          (Qubits[numpy.random.randint(5)]))\n",
    "    \n",
    "    circuit = cirq.Circuit(operations)\n",
    "    return circuit"
   ]
  },
  {
   "cell_type": "code",
   "execution_count": 3,
   "metadata": {},
   "outputs": [],
   "source": [
    "Qubits = [ cirq.NamedQubit(str(i)) for i in range(5) ]"
   ]
  },
  {
   "cell_type": "code",
   "execution_count": 4,
   "metadata": {
    "scrolled": false
   },
   "outputs": [
    {
     "data": {
      "text/html": [
       "<pre style=\"overflow: auto; white-space: pre;\">0: ───H───@──────────────────────×───\n",
       "          │                      │\n",
       "1: ───H───X───@──────────────────┼───\n",
       "              │                  │\n",
       "2: ───H───────X───@───Rx(0.5π)───┼───\n",
       "                  │              │\n",
       "3: ───H───────────X───@──────────┼───\n",
       "                      │          │\n",
       "4: ───H───────────────X──────────×───</pre>"
      ],
      "text/plain": [
       "0: ───H───@──────────────────────×───\n",
       "          │                      │\n",
       "1: ───H───X───@──────────────────┼───\n",
       "              │                  │\n",
       "2: ───H───────X───@───Rx(0.5π)───┼───\n",
       "                  │              │\n",
       "3: ───H───────────X───@──────────┼───\n",
       "                      │          │\n",
       "4: ───H───────────────X──────────×───"
      ]
     },
     "execution_count": 4,
     "metadata": {},
     "output_type": "execute_result"
    }
   ],
   "source": [
    "Quantum_Operation(Qubits)"
   ]
  },
  {
   "cell_type": "code",
   "execution_count": null,
   "metadata": {},
   "outputs": [],
   "source": []
  },
  {
   "cell_type": "code",
   "execution_count": null,
   "metadata": {},
   "outputs": [],
   "source": []
  },
  {
   "cell_type": "code",
   "execution_count": 5,
   "metadata": {},
   "outputs": [],
   "source": [
    "qbit = cirq.NamedQubit('qbit')\n",
    "simulator = cirq.Simulator()\n",
    "delta = numpy.pi / 60\n",
    "circuit = cirq.Circuit( [ cirq.rx(delta)(qbit) for i in range(360) ] )"
   ]
  },
  {
   "cell_type": "code",
   "execution_count": 6,
   "metadata": {},
   "outputs": [],
   "source": [
    "probablity = []\n",
    "for i in simulator.simulate_moment_steps(circuit):\n",
    "    prob = np.abs(i.state_vector()) **2\n",
    "    probablity.append(prob[0])\n"
   ]
  },
  {
   "cell_type": "code",
   "execution_count": 8,
   "metadata": {},
   "outputs": [
    {
     "name": "stdout",
     "output_type": "stream",
     "text": [
      "Probablity of measuring |0> state\n"
     ]
    },
    {
     "data": {
      "image/png": "[encoded data removed]",
      "text/plain": [
       "<Figure size 432x288 with 1 Axes>"
      ]
     },
     "metadata": {
      "needs_background": "light"
     },
     "output_type": "display_data"
    }
   ],
   "source": [
    "plot(probablity, \".\")\n",
    "ylabel(\"Probablity  -->\")\n",
    "xlabel(\"Num iter. -->\")\n",
    "print(\"Probablity of measuring |0> state\")"
   ]
  },
  {
   "cell_type": "code",
   "execution_count": null,
   "metadata": {},
   "outputs": [],
   "source": []
  }
 ],
 "metadata": {
  "kernelspec": {
   "display_name": "Python 3",
   "language": "python",
   "name": "python3"
  },
  "language_info": {
   "codemirror_mode": {
    "name": "ipython",
    "version": 3
   },
   "file_extension": ".py",
   "mimetype": "text/x-python",
   "name": "python",
   "nbconvert_exporter": "python",
   "pygments_lexer": "ipython3",
   "version": "3.6.9"
  }
 },
 "nbformat": 4,
 "nbformat_minor": 4
}
